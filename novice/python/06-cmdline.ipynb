{
 "metadata": {
  "name": "06-cmdline.ipynb"
 },
 "nbformat": 3,
 "nbformat_minor": 0,
 "worksheets": [
  {
   "cells": [
    {
     "cell_type": "heading",
     "level": 2,
     "metadata": {
      "cell_tags": []
     },
     "source": [
      "\uba85\ub839-\ub77c\uc778 \ud504\ub85c\uadf8\ub7a8 (Command-Line Programs)"
     ]
    },
    {
     "cell_type": "markdown",
     "metadata": {
      "cell_tags": []
     },
     "source": [
      "IPython Notebook\uacfc \ub2e4\ub978 \uc778\ud130\ub799\ud2f0\ube0c \ub3c4\uad6c\ub294 \ub370\uc774\ud130\ub97c \ud0d0\uc0c9\ud558\uace0 \ud504\ub85c\ud1a0\ud0c0\uc785 \ucf54\ub4dc\ub97c \uc791\uc131\ud558\ub294\ub370\ub294 \ud6cc\ub96d\ud558\uc9c0\ub9cc \uc870\ub9cc\uac04 \ud30c\uc774\ud504\ub77c\uc778\uc5d0\uc11c \ud504\ub85c\uadf8\ub7a8\uc744 \uc0ac\uc6a9\ud558\uac70\ub098\n",
      "\uc218\ucc9c\uac1c\uc758 \ud30c\uc77c\uc744 \ucc98\ub9ac\ud558\ub294\ub370 \uc258 \uc2a4\ud06c\ub9bd\ud2b8\ub97c \uc2e4\ud589\ud560 \uac83\uc774\ub2e4.\n",
      "\uc774\ub97c \uc704\ud574\uc11c \uc791\uc131\ud55c \ud504\ub85c\uadf8\ub7a8\uc774 \ub2e4\ub978 \uc720\ub2c9\uc2a4 \uba85\ub839-\ub77c\uc778 \ub3c4\uad6c\uc640 \ud568\uaed8 \ub3d9\uc791\ud558\ub3c4\ub85d \ub9cc\ub4e4 \ud544\uc694\uac00 \uc788\ub2e4.\n",
      "\uc608\ub97c \ub4e4\uc5b4, \ub370\uc774\ud130 \uc14b\uc744 \uc77d\uace0 \ud658\uc790\ub2f9 \ud3c9\uade0 \uc5fc\uc99d\uac12\uc744 \ucd9c\ub825\ud558\ub294 \ud504\ub85c\uadf8\ub7a8\uc744 \ub9cc\ub4e4\uace0 \uc2f6\ub2e4.\n",
      "\n",
      "~~~\n",
      "$ python readings.py --mean inflammation-01.csv\n",
      "5.45\n",
      "5.425\n",
      "6.1\n",
      "...\n",
      "6.4\n",
      "7.05\n",
      "5.9\n",
      "~~~\n",
      "\n",
      "\ud558\uc9c0\ub9cc, \uccab 4\ubc88\uc9f8 \ub77c\uc778\uc758 \ucd5c\uc18c\uac12\uc744 \ubcf4\uace0\uc790 \ud560\uc9c0 \ubaa8\ub978\ub2e4.\n",
      "\n",
      "~~~\n",
      "$ head -4 inflammation-01.csv | python readings.py --min\n",
      "~~~\n",
      "\n",
      "\ud639\uc740 \uc5ec\ub7ec\uac1c \ud30c\uc77c\uc744 \uc21c\uc11c\ub300\ub85c \ud558\ub098\uc529 \ucd5c\ub300 \uc5fc\uc99d\uac12\uc744 \ubcf4\uace0\uc790 \ud560\uc9c0 \ubaa8\ub978\ub2e4.\n",
      "\n",
      "~~~\n",
      "$ python readings.py --max inflammation-*.csv\n",
      "~~~\n",
      "\n",
      "\uc804\ubc18\uc801\uc778 \uc694\uad6c\uc0ac\ud56d\uc740 \ub2e4\uc74c\uacfc \uac19\ub2e4.\n",
      "\n",
      "1. \ub9cc\uc57d \ud30c\uc77c \uc774\ub984\uc774 \uba85\ub839 \ub77c\uc778\uc5d0 \uc8fc\uc5b4\uc9c0\uc9c0 \uc54a\ub294\ub2e4\uba74, [\ud45c\uc900 \uc785\ub825(standard input)](../../gloss.html#standard-input)\uc5d0\uc11c \ub370\uc774\ud130\ub97c \uc77d\ub294\ub2e4.\n",
      "2. \ub9cc\uc57d \ud558\ub098 \ud639\uc740 \uadf8 \uc774\uc0c1\uc758 \ud30c\uc77c\uc774\ub984\uc774 \uc8fc\uc5b4\uc9c4\ub2e4\uba74, \ub370\uc774\ud130\ub97c \ud30c\uc77c\uc774\ub984\uc5d0\uc11c \uc77d\uace0 \uac01 \ud30c\uc77c\uc5d0 \ub300\ud574\uc11c \ubcc4\ub3c4\ub85c \ud1b5\uacc4\uc790\ub8cc\ub97c \ubcf4\uace0\ud55c\ub2e4.\n",
      "3. \ubb34\uc2a8 \ud1b5\uacc4\uce58\ub97c \ucd9c\ub825\ud560 \uac83\uc778\uc9c0 \uacb0\uc815\ud558\uae30 \uc704\ud574\uc11c `--min`, `--mean`, `--max` \uc635\uc158 \ud50c\ub798\uadf8\ub97c \uc0ac\uc6a9\ud55c\ub2e4.\n",
      "\n",
      "\uc0c1\uae30 \uc694\uad6c\uc0ac\ud56d\uc744 \ub9cc\uc871\ud558\ub294 \ud504\ub85c\uadf8\ub7a8\uc744 \uc791\uc131\ud558\uae30 \uc704\ud574\uc11c, \ud504\ub85c\uadf8\ub7a8\uc5d0\uc11c \uc5b4\ub5bb\uac8c \uba85\ub839-\ub77c\uc778 \uc778\uc790\ub97c \ub2e4\ub8e8\ub294\uc9c0 \uadf8\ub9ac\uace0 \uc5b4\ub5bb\uac8c \ud45c\uc900 \uc785\ub825\uc744 \ubc1b\ub294\uc9c0 \ud30c\uc545\ud560 \ud544\uc694\uac00 \uc788\ub2e4.\n",
      "\uc774\ub7ec\ud55c \uc9c8\ubb38\uc744 \ub2e4\uc74c\uc5d0\uc11c \uc21c\ucc28\uc801\uc73c\ub85c \ub2e4\ub8ec\ub2e4."
     ]
    },
    {
     "cell_type": "markdown",
     "metadata": {
      "cell_tags": [
       "objectives"
      ]
     },
     "source": [
      "#### \ubaa9\ud45c\n",
      "\n",
      "*   \uba85\ub839-\ub77c\uc778 \uc778\uc790 \uac12\uc744 \ud504\ub85c\uadf8\ub7a8\uc5d0 \uc0ac\uc6a9\ud55c\ub2e4.\n",
      "*   \uba85\ub839-\ub77c\uc778 \ud504\ub85c\uadf8\ub7a8\uc5d0 \uc635\uc158 \ud50c\ub798\uadf8\uc640 \ud30c\uc77c\uc744 \ubcc4\ub3c4\ub85c \ub2e4\ub8ec\ub2e4.\n",
      "*   \ud504\ub85c\uadf8\ub7a8\uc5d0\uc11c \ud45c\uc900 \uc785\ub825\uac12\uc744 \ub370\uc774\ud130\uc5d0\uc11c \uc77d\uc5b4\uc11c \ud30c\uc774\ud504\ub77c\uc778\uc5d0\uc11c \uc0ac\uc6a9\ub420 \uc218 \uc788\uac8c \ud55c\ub2e4."
     ]
    },
    {
     "cell_type": "heading",
     "level": 3,
     "metadata": {
      "cell_tags": []
     },
     "source": [
      "\uba85\ub839-\ub77c\uc778 \uc778\uc790 (Command-Line Arguments)"
     ]
    },
    {
     "cell_type": "markdown",
     "metadata": {
      "cell_tags": []
     },
     "source": [
      "\uc5ec\ub7ec\ubd84\uc774 \uc120\ud0dd\ud55c \ud14d\uc2a4\ud2b8 \ud3b8\uc9d1\uae30\ub97c \uc0ac\uc6a9\ud558\uc5ec, \ud14d\uc2a4\ud2b8 \ud30c\uc77c\uc5d0 \ub2e4\uc74c\uc744 \uc800\uc7a5\ud558\uc138\uc694."
     ]
    },
    {
     "cell_type": "code",
     "collapsed": false,
     "input": [
      "!cat sys-version.py"
     ],
     "language": "python",
     "metadata": {
      "cell_tags": []
     },
     "outputs": [
      {
       "output_type": "stream",
       "stream": "stdout",
       "text": [
        "import sys\r\n",
        "print 'version is', sys.version\r\n"
       ]
      }
     ],
     "prompt_number": 2
    },
    {
     "cell_type": "markdown",
     "metadata": {
      "cell_tags": []
     },
     "source": [
      "\uccab\ubc88\uc9f8 \ud589\uc740 \"system\"\uc744 \uac04\ub7b5\ud558\uac8c \uc904\uc778 `sys`\ub77c\ub294 \ub77c\uc774\ube0c\ub7ec\ub9ac\ub97c \uac00\uc838\uc628\ub2e4.\n",
      "\uac00\uc838\uc628 \ub77c\uc774\ube0c\ub7ec\ub9ac\ub294 `sys.version` \uac19\uc740 \uac12\uc744 \uc815\uc758\ud558\ub294\ub370 Pythong \ubc84\uc83c\uc774 \ubb34\uc5c7\uc778\uc9c0 \uae30\uc220\ud55c\ub2e4.\n",
      "IPython Notebook \ub0b4\ubd80\uc5d0\uc11c \ub2e4\uc74c\uacfc \uac19\uc774 \uc2a4\ud06c\ub9bd\ud2b8\ub97c \uc2e4\ud589\ud560 \uc218 \uc788\ub2e4."
     ]
    },
    {
     "cell_type": "code",
     "collapsed": false,
     "input": [
      "%run sys-version.py"
     ],
     "language": "python",
     "metadata": {
      "cell_tags": []
     },
     "outputs": [
      {
       "output_type": "stream",
       "stream": "stdout",
       "text": [
        "version is 2.7.5 |Anaconda 1.8.0 (x86_64)| (default, Oct 24 2013, 07:02:20) \n",
        "[GCC 4.0.1 (Apple Inc. build 5493)]\n"
       ]
      }
     ],
     "prompt_number": 3
    },
    {
     "cell_type": "markdown",
     "metadata": {
      "cell_tags": []
     },
     "source": [
      "\ud639\uc740 \ub2e4\uc74c\uacfc \uac19\uc774\ub3c4 \uac00\ub2a5\ud558\ub2e4."
     ]
    },
    {
     "cell_type": "code",
     "collapsed": false,
     "input": [
      "!ipython sys-version.py"
     ],
     "language": "python",
     "metadata": {
      "cell_tags": []
     },
     "outputs": [
      {
       "output_type": "stream",
       "stream": "stdout",
       "text": [
        "version is 2.7.5 |Anaconda 1.8.0 (x86_64)| (default, Oct 24 2013, 07:02:20) \r\n",
        "[GCC 4.0.1 (Apple Inc. build 5493)]\r\n"
       ]
      }
     ],
     "prompt_number": 4
    },
    {
     "cell_type": "markdown",
     "metadata": {
      "cell_tags": []
     },
     "source": [
      "\uccab\ubc88\uc9f8 \ubc29\ubc95(`%run`)\uc740 `.py` \ud30c\uc77c\uc5d0 \ub2f4\uae34 \ud504\ub85c\uadf8\ub7a8\uc744 \uc2e4\ud589\ud558\ub294\ub370 IPython Notebook\uc5d0 \uc788\ub294 \ud2b9\uc218 \uba85\ub839\uc5b4\ub97c \uc0ac\uc6a9\ud55c\ub2e4.\n",
      "\ub450\ubc88\uc9f8 \ubc29\ubc95\uc774 \uc880\ub354 \uc77c\ubc18\uc801\uc774\ub2e4. \ub290\ub08c\ud45c(`!`)\uac00 Notebook\uc5d0 \uc258 \uba85\ub839\uc5b4\ub97c \uc2e4\ud589\ud55c\ub2e4\uace0 \uc9c0\uc2dc\ud55c\ub2e4. \uadf8\ub798\uc11c \uc2e4\ud589\ud558\ub294 \uba85\ub839\uc5b4\ub294 \uc2a4\ud06c\ub9bd\ud2b8 \uc774\ub984\uacfc `ipython`\uc774 \ub41c\ub2e4."
     ]
    },
    {
     "cell_type": "markdown",
     "metadata": {
      "cell_tags": []
     },
     "source": [
      "\uc880\ub354 \ud765\ubbf8\ub85c\uc6b4 \uac83\uc744 \uc218\ud589\ud558\ub294 \ub610\ub2e4\ub978 \uc2a4\ud06c\ub9bd\ud2b8\uac00 \ub2e4\uc74c\uc5d0 \uc788\ub2e4."
     ]
    },
    {
     "cell_type": "code",
     "collapsed": false,
     "input": [
      "!cat argv-list.py"
     ],
     "language": "python",
     "metadata": {
      "cell_tags": []
     },
     "outputs": [
      {
       "output_type": "stream",
       "stream": "stdout",
       "text": [
        "import sys\r\n",
        "print 'sys.argv is', sys.argv\r\n"
       ]
      }
     ],
     "prompt_number": 5
    },
    {
     "cell_type": "markdown",
     "metadata": {
      "cell_tags": []
     },
     "source": [
      "\uc774\uc0c1\ud55c \uc774\ub984 `argv`\ub294 \"argument values\"(\uc778\uc790\uac12)\uc744 \uc904\uc5ec \ud45c\ud604\ud55c \uac83\uc774\ub2e4.\n",
      "\ud30c\uc774\uc36c\uc774 \ud504\ub85c\uadf8\ub7a8\uc744 \uc2e4\ud589\ud560 \ub54c\ub9c8\ub2e4, \uba85\ub839 \ub77c\uc778\uc5d0 \uc8fc\uc5b4\uc9c4 \ubaa8\ub4e0 \uac12\uc744 \ubc1b\uc544\uc11c \n",
      "`sys.argv` \ub9ac\uc2a4\ud2b8\uc5d0 \ub123\ub294\ub2e4. \uadf8\ub807\uac8c \ud574\uc11c \ud504\ub85c\uadf8\ub7a8\uc774 \uc778\uc790\uac12\uc774 \ubb34\uc5c7\uc778\uc9c0\ub97c \ud310\ub2e8\ud560 \uc218 \uc788\ub2e4.\n",
      "\ub9cc\uc57d \uc5b4\ub5a4 \uc778\uc790\ub3c4 \uc5c6\uc774 \ud504\ub85c\uadf8\ub7a8\uc744 \uc2e4\ud589\ud55c\ub2e4\uba74,"
     ]
    },
    {
     "cell_type": "code",
     "collapsed": false,
     "input": [
      "!ipython argv-list.py"
     ],
     "language": "python",
     "metadata": {
      "cell_tags": []
     },
     "outputs": [
      {
       "output_type": "stream",
       "stream": "stdout",
       "text": [
        "sys.argv is ['/Users/gwilson/s/bc/python/novice/argv-list.py']\r\n"
       ]
      }
     ],
     "prompt_number": 6
    },
    {
     "cell_type": "markdown",
     "metadata": {
      "cell_tags": []
     },
     "source": [
      "\ub9ac\uc2a4\ud2b8\uc758 \uc720\uc77c\ud55c \uac83\uc740 \uc2a4\ud2b8\ub9bd\ud2b8\uc758 \uc804\uccb4 \uacbd\ub85c\uc815\ubcf4\uac00 \ub418\uace0 \ud56d\uc0c1 `sys.argv[0]`\uc744 \ucc28\uc9c0\ud55c\ub2e4.\n",
      "\ud558\uc9c0\ub9cc, \ub9cc\uc57d \uba87\uac1c\uc758 \uc778\uc790\ub97c \ub123\uc5b4 \uc2e4\ud589\ud55c\ub2e4\uba74, "
     ]
    },
    {
     "cell_type": "code",
     "collapsed": false,
     "input": [
      "!ipython argv-list.py first second third"
     ],
     "language": "python",
     "metadata": {
      "cell_tags": []
     },
     "outputs": [
      {
       "output_type": "stream",
       "stream": "stdout",
       "text": [
        "sys.argv is ['/Users/gwilson/s/bc/python/novice/argv-list.py', 'first', 'second', 'third']\r\n"
       ]
      }
     ],
     "prompt_number": 7
    },
    {
     "cell_type": "markdown",
     "metadata": {
      "cell_tags": []
     },
     "source": [
      "\uadf8\ub7ec\uba74 \ud30c\uc774\uc36c\uc740 \uac01\uac01\uc758 \uc778\uc790\ub97c \ub9c8\uc220\uac19\uc740 \ub9ac\uc2a4\ud2b8\uc5d0 \ucd94\uac00\ud55c\ub2e4."
     ]
    },
    {
     "cell_type": "markdown",
     "metadata": {
      "cell_tags": []
     },
     "source": [
      "\uc9c0\uae08\uae4c\uc9c0 \ud559\uc2b5\ud55c \uac83\uc744 \uac00\uc9c0\uace0, \ub2e8\ub3c5 \ub370\uc774\ud130 \ud30c\uc77c\uc5d0 \ud658\uc790 \ub9c8\ub2e4 \ud3c9\uade0\uac12\uc744 \ucd9c\ub825\ud558\ub294 `readings.py`\ub97c \uc791\uc131\ud574 \ubcf4\uc790.\n",
      "\uccab\ubc88\uc9f8 \ub2e8\uacc4\ub294 \uad6c\ud604\uc5d0 \ub300\ud55c \uc724\uacfd\uc744 \uc7a1\ub294 \ud568\uc218\uc640 \uc2e4\uc81c \ub3d9\uc791\ud558\ub294 \ud568\uc218\uc5d0 \ub300\ud55c \uc790\ub9ac\ub97c \uc7a1\ub294 \ucf54\ub4dc\ub97c \uc791\uc131\ud55c\ub2e4.\n",
      "\ud568\uc218 \uc774\ub984\uc744 \uc6d0\ud558\ub294 \ubb34\uc5c7\uc774\ub4e0\uc9c0 \uc815\ud560 \uc218 \uc788\uc9c0\ub9cc, \uad00\ub840\ub85c \ud568\uc218\ub294 \ud1b5\uc0c1 `main`\uc73c\ub85c \ubd80\ub978\ub2e4."
     ]
    },
    {
     "cell_type": "code",
     "collapsed": false,
     "input": [
      "!cat readings-01.py"
     ],
     "language": "python",
     "metadata": {
      "cell_tags": []
     },
     "outputs": [
      {
       "output_type": "stream",
       "stream": "stdout",
       "text": [
        "import sys\r\n",
        "import numpy as np\r\n",
        "\r\n",
        "def main():\r\n",
        "    script = sys.argv[0]\r\n",
        "    filename = sys.argv[1]\r\n",
        "    data = np.loadtxt(filename, delimiter=',')\r\n",
        "    for m in data.mean(axis=1):\r\n",
        "        print m\r\n"
       ]
      }
     ],
     "prompt_number": 8
    },
    {
     "cell_type": "markdown",
     "metadata": {
      "cell_tags": []
     },
     "source": [
      "\uc774 \ud568\uc218\ub294 \uc2a4\ud06c\ub9bd\ud2b8 \uc774\ub984\uc744 `sys.argv[0]`\uc5d0\uc11c \uc5bb\ub294\ub370 \uc774\uc720\ub294 \uadf8\uacf3\uc774 \ud56d\uc0c1 \uc774\ub984\uc774 \ub193\uc5ec\uc9c0\ub294 \uc7a5\uc18c\uc774\uae30 \ub54c\ubb38\uc774\ub2e4.\n",
      "\ucc98\ub9ac\ud560 \ud30c\uc77c \uc774\ub984\uc740 `sys.argv[1]`\uc5d0\uc11c \uc5bb\ub294\ub2e4. \ub2e4\uc74c\uc5d0 \uac04\ub2e8\ud55c \ud14c\uc2a4\ud2b8\uac00 \uc788\ub2e4."
     ]
    },
    {
     "cell_type": "code",
     "collapsed": false,
     "input": [
      "%run readings-01.py inflammation-01.csv"
     ],
     "language": "python",
     "metadata": {
      "cell_tags": []
     },
     "outputs": [],
     "prompt_number": 9
    },
    {
     "cell_type": "markdown",
     "metadata": {
      "cell_tags": []
     },
     "source": [
      "\uc5b4\ub5a0\ud55c \ucd9c\ub825\ub3c4 \uc5c6\ub294\ub370 \uc774\uc720\ub294 \ud568\uc218\ub97c \uc815\uc758\ud588\uc9c0\ub9cc, \uc2e4\uc9c8\uc801\uc73c\ub85c \ud638\ucd9c\uc744 \ud558\uc9c0 \uc54a\uc558\uae30 \ub54c\ubb38\uc774\ub2e4. `main`\uc5d0 \ud638\ucd9c\uc744 \ucd94\uac00\ud558\uc790."
     ]
    },
    {
     "cell_type": "code",
     "collapsed": false,
     "input": [
      "!cat readings-02.py"
     ],
     "language": "python",
     "metadata": {
      "cell_tags": []
     },
     "outputs": [
      {
       "output_type": "stream",
       "stream": "stdout",
       "text": [
        "import sys\r\n",
        "import numpy as np\r\n",
        "\r\n",
        "def main():\r\n",
        "    script = sys.argv[0]\r\n",
        "    filename = sys.argv[1]\r\n",
        "    data = np.loadtxt(filename, delimiter=',')\r\n",
        "    for m in data.mean(axis=1):\r\n",
        "        print m\r\n",
        "\r\n",
        "main()\r\n"
       ]
      }
     ],
     "prompt_number": 10
    },
    {
     "cell_type": "markdown",
     "metadata": {
      "cell_tags": []
     },
     "source": [
      "\uadf8\ub9ac\uace0 \uc2e4\ud589\ud558\uc790."
     ]
    },
    {
     "cell_type": "code",
     "collapsed": false,
     "input": [
      "%run readings-02.py inflammation-01.csv"
     ],
     "language": "python",
     "metadata": {
      "cell_tags": []
     },
     "outputs": [
      {
       "output_type": "stream",
       "stream": "stdout",
       "text": [
        "5.45\n",
        "5.425\n",
        "6.1\n",
        "5.9\n",
        "5.55\n",
        "6.225\n",
        "5.975\n",
        "6.65\n",
        "6.625\n",
        "6.525\n",
        "6.775\n",
        "5.8\n",
        "6.225\n",
        "5.75\n",
        "5.225\n",
        "6.3\n",
        "6.55\n",
        "5.7\n",
        "5.85\n",
        "6.55\n",
        "5.775\n",
        "5.825\n",
        "6.175\n",
        "6.1\n",
        "5.8\n",
        "6.425\n",
        "6.05\n",
        "6.025\n",
        "6.175\n",
        "6.55\n",
        "6.175\n",
        "6.35\n",
        "6.725\n",
        "6.125\n",
        "7.075\n",
        "5.725\n",
        "5.925\n",
        "6.15\n",
        "6.075\n",
        "5.75\n",
        "5.975\n",
        "5.725\n",
        "6.3\n",
        "5.9\n",
        "6.75\n",
        "5.925\n",
        "7.225\n",
        "6.15\n",
        "5.95\n",
        "6.275\n",
        "5.7\n",
        "6.1\n",
        "6.825\n",
        "5.975\n",
        "6.725\n",
        "5.7\n",
        "6.25\n",
        "6.4\n",
        "7.05\n",
        "5.9\n"
       ]
      }
     ],
     "prompt_number": 11
    },
    {
     "cell_type": "markdown",
     "metadata": {},
     "source": [
      "> #### \uc62c\ubc14\ub978 \ubc29\ubc95\n",
      ">\n",
      "> \ub9cc\uc57d \uc791\uc131\uc911\uc778 \ud504\ub85c\uadf8\ub7a8\uc774 \ubcf5\uc7a1\ud55c \ub9e4\uac1c\ubcc0\uc218\ub098 \ubcf5\uc218\uc758 \ud30c\uc77c\uc774\ub984\uc744 \uac00\uc9c4\ub2e4\uba74, `sys.argv`\ub97c \uc9c1\uc811\uc801\uc73c\ub85c \ub2e4\ub8e8\uc9c0 \ub9d0\uc544\uc57c \ud55c\ub2e4.\n",
      "> \ub300\uc2e0\uc5d0 \ud30c\uc774\uc36c `argparse` \ub77c\uc774\ube0c\ub7ec\ub9ac\ub97c \uc0ac\uc6a9\ud55c\ub2e4.\n",
      "> `argparse` \ub77c\uc774\ube0c\ub7ec\ub9ac\ub294 \uccb4\uacc4\uc801\uc73c\ub85c \uc77c\ubc18\uc801\uc778 \uacbd\uc6b0\ub97c \ucc98\ub9ac\ud558\uace0, \ub610\ud55c \uc0ac\uc6a9\uc790\ub97c \uc704\ud574\uc11c \ud504\ub85c\uadf8\ub798\uba38\uac00 \uc2e4\uc6a9\uc801\uc778 \uc624\ub958 \uba54\uc2dc\uc9c0\ub97c \uc81c\uacf5\ud558\uae30 \uc27d\uac8c \ub9cc\ub4e4\uc5c8\ub2e4."
     ]
    },
    {
     "cell_type": "markdown",
     "metadata": {
      "cell_tags": [
       "challenges"
      ]
     },
     "source": [
      "#### \ub3c4\uc804 \uacfc\uc81c\n",
      "\n",
      "1.  \ub367\uc148\uacfc \ube84\uc148\uc744 \uc218\ud589\ud558\ub294 \uba85\ub839-\ub77c\uc778 \ud504\ub85c\uadf8\ub7a8\uc744 \uc791\uc131\ud558\uc138\uc694.\n",
      "\n",
      "    ~~~\n",
      "    $ python arith.py 1 + 2\n",
      "    3\n",
      "    $ python arith.py 3 - 4\n",
      "    -1\n",
      "    ~~~\n",
      "\n",
      "    \ub9cc\uc57d \ud504\ub85c\uadf8\ub7a8\uc5d0 `*`\uc744 \uc0ac\uc6a9\ud574\uc11c \uacf1\uc148\uc744 \ucd94\uac00\ud558\ub824\uace0 \ud55c\ub2e4\uba74 \ubb34\uc2a8 \uc798\ubabb\uc774 \uc788\uc744\uae4c\uc694?\n",
      "\n",
      "2.  [03-loop.ipynb](earlier)\uc5d0\uc11c \uc18c\uac1c\ub41c `glob` \ubaa8\ub4c8\uc744 \uc0ac\uc6a9\ud574\uc11c, \ud2b9\uc815 \ud655\uc7a5\uc790\ub97c \uac00\uc9c4 \ud30c\uc77c\uc744 \ud604\uc7ac \ub514\ub809\ud1a0\ub9ac\uc5d0\uc11c \ucd9c\ub825\ud558\ub294 `ls` \uc758 \uac04\ub2e8\ud55c \ubc84\uc83c\uc744 \uc791\uc131\ud558\uc138\uc694.\n",
      "    \n",
      "    ~~~\n",
      "    $ python my_ls.py py\n",
      "    left.py\n",
      "    right.py\n",
      "    zero.py\n",
      "    ~~~"
     ]
    },
    {
     "cell_type": "heading",
     "level": 3,
     "metadata": {
      "cell_tags": []
     },
     "source": [
      "Handling Multiple Files"
     ]
    },
    {
     "cell_type": "markdown",
     "metadata": {
      "cell_tags": []
     },
     "source": [
      "The next step is to teach our program how to handle multiple files.\n",
      "Since 60 lines of output per file is a lot to page through,\n",
      "we'll start by creating three smaller files,\n",
      "each of which has three days of data for two patients:"
     ]
    },
    {
     "cell_type": "code",
     "collapsed": false,
     "input": [
      "!ls small-*.csv"
     ],
     "language": "python",
     "metadata": {
      "cell_tags": []
     },
     "outputs": [
      {
       "output_type": "stream",
       "stream": "stdout",
       "text": [
        "small-01.csv small-02.csv small-03.csv\r\n"
       ]
      }
     ],
     "prompt_number": 12
    },
    {
     "cell_type": "code",
     "collapsed": false,
     "input": [
      "!cat small-01.csv"
     ],
     "language": "python",
     "metadata": {
      "cell_tags": []
     },
     "outputs": [
      {
       "output_type": "stream",
       "stream": "stdout",
       "text": [
        "0,0,1\r\n",
        "0,1,2\r\n"
       ]
      }
     ],
     "prompt_number": 13
    },
    {
     "cell_type": "code",
     "collapsed": false,
     "input": [
      "%run readings-02.py small-01.csv"
     ],
     "language": "python",
     "metadata": {
      "cell_tags": []
     },
     "outputs": [
      {
       "output_type": "stream",
       "stream": "stdout",
       "text": [
        "0.333333333333\n",
        "1.0\n"
       ]
      }
     ],
     "prompt_number": 14
    },
    {
     "cell_type": "markdown",
     "metadata": {
      "cell_tags": []
     },
     "source": [
      "Using small data files as input also allows us to check our results more easily:\n",
      "here,\n",
      "for example,\n",
      "we can see that our program is calculating the mean correctly for each line,\n",
      "whereas we were really taking it on faith before.\n",
      "This is yet another rule of programming:\n",
      "\"[test the simple things first](../../rules.html#test-simple-first)\".\n",
      "\n",
      "We want our program to process each file separately,\n",
      "so we need a loop that executes once for each filename.\n",
      "If we specify the files on the command line,\n",
      "the filenames will be in `sys.argv`,\n",
      "but we need to be careful:\n",
      "`sys.argv[0]` will always be the name of our script,\n",
      "rather than the name of a file.\n",
      "We also need to handle an unknown number of filenames,\n",
      "since our program could be run for any number of files.\n",
      "\n",
      "The solution to both problems is to loop over the contents of `sys.argv[1:]`.\n",
      "The '1' tells Python to start the slice at location 1,\n",
      "so the program's name isn't included;\n",
      "since we've left off the upper bound,\n",
      "the slice runs to the end of the list,\n",
      "and includes all the filenames.\n",
      "Here's our changed program:"
     ]
    },
    {
     "cell_type": "code",
     "collapsed": false,
     "input": [
      "!cat readings-03.py"
     ],
     "language": "python",
     "metadata": {
      "cell_tags": []
     },
     "outputs": [
      {
       "output_type": "stream",
       "stream": "stdout",
       "text": [
        "import sys\r\n",
        "import numpy as np\r\n",
        "\r\n",
        "def main():\r\n",
        "    script = sys.argv[0]\r\n",
        "    for filename in sys.argv[1:]:\r\n",
        "        data = np.loadtxt(filename, delimiter=',')\r\n",
        "        for m in data.mean(axis=1):\r\n",
        "            print m\r\n",
        "\r\n",
        "main()\r\n"
       ]
      }
     ],
     "prompt_number": 15
    },
    {
     "cell_type": "markdown",
     "metadata": {
      "cell_tags": []
     },
     "source": [
      "and here it is in action:"
     ]
    },
    {
     "cell_type": "code",
     "collapsed": false,
     "input": [
      "%run readings-03.py small-01.csv small-02.csv"
     ],
     "language": "python",
     "metadata": {
      "cell_tags": []
     },
     "outputs": [
      {
       "output_type": "stream",
       "stream": "stdout",
       "text": [
        "0.333333333333\n",
        "1.0\n",
        "13.6666666667\n",
        "11.0\n"
       ]
      }
     ],
     "prompt_number": 16
    },
    {
     "cell_type": "markdown",
     "metadata": {
      "cell_tags": []
     },
     "source": [
      "Note:\n",
      "at this point,\n",
      "we have created three versions of our script called `readings-01.py`,\n",
      "`readings-02.py`, and `readings-03.py`.\n",
      "We wouldn't do this in real life:\n",
      "instead,\n",
      "we would have one file called `readings.py` that we committed to version control\n",
      "every time we got an enhancement working.\n",
      "For teaching,\n",
      "though,\n",
      "we need all the successive versions side by side."
     ]
    },
    {
     "cell_type": "markdown",
     "metadata": {
      "cell_tags": [
       "challenges"
      ]
     },
     "source": [
      "#### Challenges\n",
      "\n",
      "1.  Write a program called `check.py` that takes the names of one or more inflammation data files as arguments\n",
      "    and checks that all the files have the same number of rows and columns.\n",
      "    What is the best way to test your program?"
     ]
    },
    {
     "cell_type": "heading",
     "level": 3,
     "metadata": {
      "cell_tags": []
     },
     "source": [
      "Handling Command-Line Flags"
     ]
    },
    {
     "cell_type": "markdown",
     "metadata": {
      "cell_tags": []
     },
     "source": [
      "The next step is to teach our program to pay attention to the `--min`, `--mean`, and `--max` flags.\n",
      "These always appear before the names of the files,\n",
      "so we could just do this:"
     ]
    },
    {
     "cell_type": "code",
     "collapsed": false,
     "input": [
      "!cat readings-04.py"
     ],
     "language": "python",
     "metadata": {
      "cell_tags": []
     },
     "outputs": [
      {
       "output_type": "stream",
       "stream": "stdout",
       "text": [
        "import sys\r\n",
        "import numpy as np\r\n",
        "\r\n",
        "def main():\r\n",
        "    script = sys.argv[0]\r\n",
        "    action = sys.argv[1]\r\n",
        "    filenames = sys.argv[2:]\r\n",
        "\r\n",
        "    for f in filenames:\r\n",
        "        data = np.loadtxt(f, delimiter=',')\r\n",
        "\r\n",
        "        if action == '--min':\r\n",
        "            values = data.min(axis=1)\r\n",
        "        elif action == '--mean':\r\n",
        "            values = data.mean(axis=1)\r\n",
        "        elif action == '--max':\r\n",
        "            values = data.max(axis=1)\r\n",
        "\r\n",
        "        for m in values:\r\n",
        "            print m\r\n",
        "\r\n",
        "main()\r\n"
       ]
      }
     ],
     "prompt_number": 17
    },
    {
     "cell_type": "markdown",
     "metadata": {
      "cell_tags": []
     },
     "source": [
      "This works:"
     ]
    },
    {
     "cell_type": "code",
     "collapsed": false,
     "input": [
      "%run readings-04.py --max small-01.csv"
     ],
     "language": "python",
     "metadata": {
      "cell_tags": []
     },
     "outputs": [
      {
       "output_type": "stream",
       "stream": "stdout",
       "text": [
        "1.0\n",
        "2.0\n"
       ]
      }
     ],
     "prompt_number": 18
    },
    {
     "cell_type": "markdown",
     "metadata": {
      "cell_tags": []
     },
     "source": [
      "but there are seveal things wrong with it:\n",
      "\n",
      "1.  `main` is too large to read comfortably.\n",
      "\n",
      "2.  If `action` isn't one of the three recognized flags,\n",
      "    the program loads each file but does nothing with it\n",
      "    (because none of the branches in the conditional match).\n",
      "    [Silent failures](../../gloss.html#silent-failure) like this\n",
      "    are always hard to debug.\n",
      "\n",
      "This version pulls the processing of each file out of the loop into a function of its own.\n",
      "It also checks that `action` is one of the allowed flags\n",
      "before doing any processing,\n",
      "so that the program fails fast:"
     ]
    },
    {
     "cell_type": "code",
     "collapsed": false,
     "input": [
      "!cat readings-05.py"
     ],
     "language": "python",
     "metadata": {
      "cell_tags": []
     },
     "outputs": [
      {
       "output_type": "stream",
       "stream": "stdout",
       "text": [
        "import sys\r\n",
        "import numpy as np\r\n",
        "\r\n",
        "def main():\r\n",
        "    script = sys.argv[0]\r\n",
        "    action = sys.argv[1]\r\n",
        "    filenames = sys.argv[2:]\r\n",
        "    assert action in ['--min', '--mean', '--max'], \\\r\n",
        "           'Action is not one of --min, --mean, or --max: ' + action\r\n",
        "    for f in filenames:\r\n",
        "        process(f, action)\r\n",
        "\r\n",
        "def process(filename, action):\r\n",
        "    data = np.loadtxt(filename, delimiter=',')\r\n",
        "\r\n",
        "    if action == '--min':\r\n",
        "        values = data.min(axis=1)\r\n",
        "    elif action == '--mean':\r\n",
        "        values = data.mean(axis=1)\r\n",
        "    elif action == '--max':\r\n",
        "        values = data.max(axis=1)\r\n",
        "\r\n",
        "    for m in values:\r\n",
        "        print m\r\n",
        "\r\n",
        "main()\r\n"
       ]
      }
     ],
     "prompt_number": 19
    },
    {
     "cell_type": "markdown",
     "metadata": {
      "cell_tags": []
     },
     "source": [
      "This is four lines longer than its predecessor,\n",
      "but broken into more digestible chunks of 8 and 12 lines."
     ]
    },
    {
     "cell_type": "markdown",
     "metadata": {},
     "source": [
      "Python has a module named [argparse](http://docs.python.org/dev/library/argparse.html)\n",
      "that helps handle complex command-line flags. We will not cover this module in this lesson\n",
      "but you can go to Tshepang Lekhonkhobe's [Argparse tutorial](http://docs.python.org/dev/howto/argparse.html)\n",
      "that is part of Python's Official Documentation."
     ]
    },
    {
     "cell_type": "markdown",
     "metadata": {
      "cell_tags": [
       "challenges"
      ]
     },
     "source": [
      "#### Challenges\n",
      "\n",
      "1.  Rewrite this program so that it uses `-n`, `-m`, and `-x` instead of `--min`, `--mean`, and `--max` respectively.\n",
      "    Is the code easier to read?\n",
      "    Is the program easier to understand?\n",
      "\n",
      "2.  Separately,\n",
      "    modify the program so that if no parameters are given\n",
      "    (i.e., no action is specified and no filenames are given),\n",
      "    it prints a message explaining how it should be used.\n",
      "\n",
      "3.  Separately,\n",
      "    modify the program so that if no action is given\n",
      "    it displays the means of the data."
     ]
    },
    {
     "cell_type": "heading",
     "level": 3,
     "metadata": {
      "cell_tags": []
     },
     "source": [
      "Handling Standard Input"
     ]
    },
    {
     "cell_type": "markdown",
     "metadata": {
      "cell_tags": []
     },
     "source": [
      "The next thing our program has to do is read data from standard input if no filenames are given\n",
      "so that we can put it in a pipeline,\n",
      "redirect input to it,\n",
      "and so on.\n",
      "Let's experiment in another script:"
     ]
    },
    {
     "cell_type": "code",
     "collapsed": false,
     "input": [
      "!cat count-stdin.py"
     ],
     "language": "python",
     "metadata": {
      "cell_tags": []
     },
     "outputs": [
      {
       "output_type": "stream",
       "stream": "stdout",
       "text": [
        "import sys\r\n",
        "\r\n",
        "count = 0\r\n",
        "for line in sys.stdin:\r\n",
        "    count += 1\r\n",
        "\r\n",
        "print count, 'lines in standard input'\r\n"
       ]
      }
     ],
     "prompt_number": 20
    },
    {
     "cell_type": "markdown",
     "metadata": {
      "cell_tags": []
     },
     "source": [
      "This little program reads lines from a special \"file\" called `sys.stdin`,\n",
      "which is automatically connected to the program's standard input.\n",
      "We don't have to open it&mdash;Python and the operating system\n",
      "take care of that when the program starts up&mdash;\n",
      "but we can do almost anything with it that we could do to a regular file.\n",
      "Let's try running it as if it were a regular command-line program:"
     ]
    },
    {
     "cell_type": "code",
     "collapsed": false,
     "input": [
      "!ipython count-stdin.py < small-01.csv"
     ],
     "language": "python",
     "metadata": {
      "cell_tags": []
     },
     "outputs": [
      {
       "output_type": "stream",
       "stream": "stdout",
       "text": [
        "2 lines in standard input\r\n"
       ]
      }
     ],
     "prompt_number": 21
    },
    {
     "cell_type": "markdown",
     "metadata": {
      "cell_tags": []
     },
     "source": [
      "What if we run it using `%run`?"
     ]
    },
    {
     "cell_type": "code",
     "collapsed": false,
     "input": [
      "%run count-stdin.py < small-01.csv"
     ],
     "language": "python",
     "metadata": {
      "cell_tags": []
     },
     "outputs": [
      {
       "output_type": "stream",
       "stream": "stdout",
       "text": [
        "0 lines in standard input\n"
       ]
      }
     ],
     "prompt_number": 22
    },
    {
     "cell_type": "markdown",
     "metadata": {
      "cell_tags": []
     },
     "source": [
      "As you can see,\n",
      "`%run` doesn't understand file redirection:\n",
      "that's a shell thing.\n",
      "\n",
      "A common mistake is to try to run something that reads from standard input like this:\n",
      "\n",
      "~~~\n",
      "!ipython count_stdin.py small-01.csv\n",
      "~~~\n",
      "\n",
      "i.e., to forget the `<` character that redirect the file to standard input.\n",
      "In this case,\n",
      "there's nothing in standard input,\n",
      "so the program waits at the start of the loop for someone to type something on the keyboard.\n",
      "Since there's no way for us to do this,\n",
      "our program is stuck,\n",
      "and we have to halt it using the `Interrupt` option from the `Kernel` menu in the Notebook.\n",
      "\n",
      "We now need to rewrite the program so that it loads data from `sys.stdin` if no filenames are provided.\n",
      "Luckily,\n",
      "`numpy.loadtxt` can handle either a filename or an open file as its first parameter,\n",
      "so we don't actually need to change `process`.\n",
      "That leaves `main`:"
     ]
    },
    {
     "cell_type": "markdown",
     "metadata": {
      "cell_tags": []
     },
     "source": [
      "~~~\n",
      "def main():\n",
      "    script = sys.argv[0]\n",
      "    action = sys.argv[1]\n",
      "    filenames = sys.argv[2:]\n",
      "    assert action in ['--min', '--mean', '--max'], \\\n",
      "           'Action is not one of --min, --mean, or --max: ' + action\n",
      "    if len(filenames) == 0:\n",
      "        process(sys.stdin, action)\n",
      "    else:\n",
      "        for f in filenames:\n",
      "            process(f, action)\n",
      "~~~"
     ]
    },
    {
     "cell_type": "markdown",
     "metadata": {
      "cell_tags": []
     },
     "source": [
      "Let's try it out\n",
      "(we'll see in a moment why we send the output through `head`):"
     ]
    },
    {
     "cell_type": "code",
     "collapsed": false,
     "input": [
      "!ipython readings-06.py --mean < small-01.csv | head -10"
     ],
     "language": "python",
     "metadata": {
      "cell_tags": []
     },
     "outputs": [
      {
       "output_type": "stream",
       "stream": "stdout",
       "text": [
        "[TerminalIPythonApp] CRITICAL | Bad config encountered during initialization:\r\n",
        "[TerminalIPythonApp] CRITICAL | Unrecognized flag: '--mean'\r\n",
        "=========\r\n",
        " IPython\r\n",
        "=========\r\n",
        "\r\n",
        "Tools for Interactive Computing in Python\r\n",
        "=========================================\r\n",
        "\r\n",
        "    A Python shell with automatic history (input and output), dynamic object\r\n",
        "    introspection, easier configuration, command completion, access to the\r\n",
        "    system shell and more.  IPython can also be embedded in running programs.\r\n"
       ]
      }
     ],
     "prompt_number": 23
    },
    {
     "cell_type": "markdown",
     "metadata": {
      "cell_tags": []
     },
     "source": [
      "Whoops:\n",
      "why are we getting IPython's help rather than the line-by-line average of our data?\n",
      "The answer is that IPython has a hard time telling\n",
      "which command-line arguments are meant for it,\n",
      "and which are meant for the program it's running.\n",
      "To make our meaning clear,\n",
      "we have to use `--` (a double dash)\n",
      "to separate the two:"
     ]
    },
    {
     "cell_type": "code",
     "collapsed": false,
     "input": [
      "!ipython readings-06.py -- --mean < small-01.csv"
     ],
     "language": "python",
     "metadata": {
      "cell_tags": []
     },
     "outputs": [
      {
       "output_type": "stream",
       "stream": "stdout",
       "text": [
        "0.333333333333\r\n",
        "1.0\r\n"
       ]
      }
     ],
     "prompt_number": 24
    },
    {
     "cell_type": "markdown",
     "metadata": {
      "cell_tags": []
     },
     "source": [
      "That's better.\n",
      "In fact,\n",
      "that's done:\n",
      "the program now does everything we set out to do."
     ]
    },
    {
     "cell_type": "markdown",
     "metadata": {
      "cell_tags": [
       "challenges"
      ]
     },
     "source": [
      "#### Challenges\n",
      "\n",
      "1.  Write a program called `line-count.py` that works like the Unix `wc` command:\n",
      "    *   If no filenames are given, it reports the number of lines in standard input.\n",
      "    *   If one or more filenames are given, it reports the number of lines in each, followed by the total number of lines."
     ]
    },
    {
     "cell_type": "markdown",
     "metadata": {
      "cell_tags": [
       "keypoints"
      ]
     },
     "source": [
      "#### Key Points\n",
      "\n",
      "*   The `sys` library connects a Python program to the system it is running on.\n",
      "*   The list `sys.argv` contains the command-line arguments that a program was run with.\n",
      "*   Avoid silent failures.\n",
      "*   The \"file\" `sys.stdin` connects to a program's standard input.\n",
      "*   The \"file\" `sys.stdout` connects to a program's standard output."
     ]
    }
   ],
   "metadata": {}
  }
 ]
}