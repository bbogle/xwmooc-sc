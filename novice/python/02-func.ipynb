{
 "metadata": {
  "name": "02-func.ipynb",
  "signature": "sha256:2f81f3414a0b7db89be2606011c0a2a9487f2dfe3aa826af1cc11570e41ffc69"
 },
 "nbformat": 3,
 "nbformat_minor": 0,
 "worksheets": [
  {
   "cells": [
    {
     "cell_type": "heading",
     "level": 2,
     "metadata": {
      "cell_tags": []
     },
     "source": [
      "\ud568\uc218 \uc0dd\uc131"
     ]
    },
    {
     "cell_type": "markdown",
     "metadata": {
      "cell_tags": []
     },
     "source": [
      "\ub9cc\uc57d \ubd84\uc11d\ud560 \ub370\uc774\ud130\uc14b\uc774 \ud558\ub098\ub77c\uba74, \ud30c\uc77c\uc744 \uc2a4\ud504\ub808\ub4dc\uc26c\ud2b8\uc5d0 \uc62c\ub824\uc11c \uac04\ub2e8\ud55c \ud1b5\uacc4\uce58\ub97c \uad6c\ud558\uace0 \uadf8\ub798\ud504\ub97c \uadf8\ub9ac\ub294 \uac83\uc774 \uc544\ub9c8\ub3c4 \ud720\uc52c \ube60\ub974\ub2e4. \ud558\uc9c0\ub9cc, \ud655\uc778\ud560 \ud30c\uc77c\uc774 12\uac1c\uc774\uace0 \uc55e\uc73c\ub85c \ub354 \ub298\uc5b4\ub09c\ub2e4\uba74 \uc598\uae30\ub294 \ub2ec\ub77c\uc9c4\ub2e4. \uc774\ubc88 \ud559\uc2b5\uc5d0\uc11c \ud568\uc218\ub97c \uc5b4\ub5bb\uac8c \uc791\uc131\ud558\ub294\uc9c0 \ubc30\uc6cc\uc11c \ud558\ub098\uc758 \uba85\ub839\uc5b4\ub85c \uba87\uac1c \uc791\uc5c5\uc744 \ubc18\ubcf5\ud560 \uc218 \uc788\ub2e4."
     ]
    },
    {
     "cell_type": "markdown",
     "metadata": {
      "cell_tags": [
       "objectives"
      ]
     },
     "source": [
      "#### \ubaa9\ud45c\n",
      "\n",
      "*   \ub9e4\uac1c\ubcc0\uc218(parameter)\ub97c \ubc1b\ub294 \ud568\uc218\ub97c \uc791\uc131\ud55c\ub2e4.\n",
      "*   \ud568\uc218\uc5d0\uc11c \uac12\uc744 \ubc18\ud658\ud55c\ub2e4.\n",
      "*   \ud568\uc218\ub97c \ub514\ubc84\uae45\ud558\uace0 \ud14c\uc2a4\ud2b8\ud55c\ub2e4.\n",
      "*   \ucf5c \uc2a4\ud0dd(call stack)\uc774 \ubb34\uc5c7\uc778\uc9c0 \uc124\uba85\ud558\uace0 \ud568\uc218\uac00 \ud638\ucd9c\ub420\ub54c \ucf5c \uc2a4\ud0dd\uc5d0 \ubcc0\uacbd\uc0ac\ud56d\uc744 \ucd94\uc801\ud55c\ub2e4.\n",
      "*   \ud568\uc218 \uc778\uc790\ub85c \ub514\ud3f4\ud2b8 \uac12\uc744 \uc124\uc815\ud55c\ub2e4.\n",
      "*   \uc65c \ud504\ub85c\uadf8\ub7a8\uc744 \uc791\uac8c \ub2e8\uc77c \ubaa9\uc801 \ud568\uc218\ub85c \uc798\uac8c \ucabc\uac1c\ub294\uc9c0 \uc124\uba85\ud55c\ub2e4."
     ]
    },
    {
     "cell_type": "heading",
     "level": 3,
     "metadata": {
      "cell_tags": []
     },
     "source": [
      "\ud568\uc218 \uc815\uc758\ud558\uae30"
     ]
    },
    {
     "cell_type": "markdown",
     "metadata": {
      "cell_tags": []
     },
     "source": [
      "\ud654\uc528(Fahrenheit)\uc5d0\uc11c \uc808\ub300\uc628\ub3c4(Kelvin)\ub85c \uc628\ub3c4\ub97c \ubcc0\ud658\ud558\ub294 `fahr_to_kelvin` \ud568\uc218\ub97c \uc815\uc758\ud558\ub294 \uac83\ubd80\ud130 \uc2dc\uc791\ud558\uc790."
     ]
    },
    {
     "cell_type": "markdown",
     "metadata": {
      "cell_tags": []
     },
     "source": [
      "\ud568\uc218\uc815\uc758\ub294 `def`\ub85c \uc2dc\uc791\ud558\uace0 \ud568\uc218\uc774\ub984\uacfc \ub9e4\uac1c\ubcc0\uc218\uc758 \uc774\ub984\uc774 \uad04\ud638 \ub9ac\uc2a4\ud2b8\ub85c \ub2e4\uc74c\uc5d0 \uc704\uce58\ud55c\ub2e4.\n",
      "\ud568\uc218 [\ubab8\ud1b5\ubd80\ubb38(body)](../../gloss.html#function-body)\uc740 \uc815\uc758 \uc544\ub798\uc5d0 \ud1b5\uc0c1 \uacf5\ubc31 4\uac1c\ub85c \ub4e4\uc5ec\uc4f0\uae30 \ud558\ub294\ub370 \ud568\uc218\uac00 \uc2e4\ud589\ud558\ub294 \ubb38\uc7a5\uc774\ub2e4.\n",
      "\n",
      "\ud568\uc218\ub97c \ud638\ucd9c\ud560 \ub54c, \ud568\uc218\uc5d0 \uc804\ub2ec\ud558\ub294 \uac12\uc740 \ubcc0\uc218\uc5d0 \ud560\ub2f9\ub418\uc5b4\uc11c \ud568\uc218 \ub0b4\ubd80\uc5d0\uc11c \uc0ac\uc6a9\ud560 \uc218 \uc788\ub2e4. \ud568\uc218 \ub0b4\ubd80\uc5d0 [\ub9ac\ud134 \ubb38\uc7a5(return statement)](../../gloss.html#return-statement))\uc744 \uc0ac\uc6a9\ud574\uc11c \uc694\uccad\ud558\ub294 \uacf3\uc5d0 \uacb0\uacfc\ub97c \ub418\ub3cc\ub9b0\ub2e4.\n",
      "\n",
      "\uc791\uc131\ud55c \ud568\uc218\ub97c \uc2e4\ud589\ud558\uc790. \ubcf8\uc778\uc774 \uc791\uc131\ud55c \ud568\uc218\ub97c \ud638\ucd9c\ud558\ub294 \uac83\uc740 \ub2e4\ub978 \ud568\uc218\ub97c \ud638\ucd9c\ud558\ub294 \uac83\uacfc \ucc28\uc774\uac00 \uc5c6\ub2e4."
     ]
    },
    {
     "cell_type": "code",
     "collapsed": false,
     "input": [
      "def fahr_to_kelvin(temp):\n",
      "    return ((temp - 32) * (5/9)) + 273.15"
     ],
     "language": "python",
     "metadata": {
      "cell_tags": []
     },
     "outputs": [],
     "prompt_number": 1
    },
    {
     "cell_type": "code",
     "collapsed": false,
     "input": [
      "print 'freezing point of water:', fahr_to_kelvin(32)\n",
      "print 'boiling point of water:', fahr_to_kelvin(212)"
     ],
     "language": "python",
     "metadata": {
      "cell_tags": []
     },
     "outputs": [
      {
       "output_type": "stream",
       "stream": "stdout",
       "text": [
        "freezing point of water: 273.15\n",
        "boiling point of water: 273.15\n"
       ]
      }
     ],
     "prompt_number": 2
    },
    {
     "cell_type": "markdown",
     "metadata": {},
     "source": [
      "\uc815\uc758\ud55c \ud568\uc218\ub97c \uc131\uacf5\uc801\uc73c\ub85c \ud638\ucd9c\ud574\uc11c \ubc18\ud658\ud55c \uac12\uc5d0 \uc811\uadfc\ud560 \uc218 \uc788\ub2e4. \ubd88\ud589\ud558\uac8c\ub3c4 \ubc18\ud658\ub41c \uac12\uc774 \uc62c\ubc14\ub978 \uac83 \uac19\uc9c0 \uc54a\ub2e4. \ubb34\uc5c7\uc774 \uc798\ubabb\ub41c\uac78\uae4c?"
     ]
    },
    {
     "cell_type": "heading",
     "level": 3,
     "metadata": {},
     "source": [
      "\ud568\uc218 \ub514\ubc84\uae45"
     ]
    },
    {
     "cell_type": "markdown",
     "metadata": {},
     "source": [
      "*\ub514\ubc84\uae45*\uc740 \uc62c\ubc14\ub974\uac8c \ub3d9\uc791\ud558\uc9c0 \uc54a\ub294 \ucf54\ub4dc\uc758 \uc77c\ubd80\ub97c \uc218\uc815\ud558\ub294 \uac83\uc774\ub2e4. \uc0c1\uae30\uc758 \uacbd\uc6b0 `fahr_to_kelvin`\uac00 \uc798\ubabb\ub41c \ub2f5\uc744 \uc8fc\ub294 \uac83\uc744 \uc54c\uae30 \ub54c\ubb38\uc5d0 \uc65c \uadf8\ub7f0\uc9c0 \uc774\uc720\ub97c \ud30c\uc545\ud574 \ubcf4\uc790.\n",
      "\n",
      "\ucf54\ub4dc\uac00 \ub9e4\uc6b0 \ud070 \uacbd\uc6b0\uc5d0 \ub514\ubc84\uae45 \uacfc\uc815\uc744 \ub3c4\uc640\uc8fc\ub294 *\ub514\ubc84\uac70(debugger)*\ub85c \ubd88\ub9ac\ub294 \ub3c4\uad6c\uac00 \ubcc4\ub3c4\ub85c \uc788\ub2e4.\n",
      "\n",
      "\uac04\ub2e8\ud558\uace0 \uc9e7\uc740 \ud568\uc218\uc5ec\uc11c \ub9e4\uac1c \ubcc0\uc218\ub97c \uace8\ub77c, \ud568\uc218\ub97c \uc791\uc740 \ubd80\ubd84\uc73c\ub85c \ucabc\uac1c\uc11c \uac01 \ubd80\ubd84\uc5d0 \uac12\uc744 \ucd9c\ub825\ud574\uc11c \ub514\ubc84\uadf8\ud55c\ub2e4."
     ]
    },
    {
     "cell_type": "code",
     "collapsed": false,
     "input": [
      "# We'll use temp = 212, the boiling point of water, which was incorrect\n",
      "print \"212 - 32:\", 212 - 32"
     ],
     "language": "python",
     "metadata": {},
     "outputs": [
      {
       "output_type": "stream",
       "stream": "stdout",
       "text": [
        "212 - 32: 180\n"
       ]
      }
     ],
     "prompt_number": 3
    },
    {
     "cell_type": "code",
     "collapsed": false,
     "input": [
      "print \"(212 - 32) * (5/9):\", (212 - 32) * (5/9)"
     ],
     "language": "python",
     "metadata": {},
     "outputs": [
      {
       "output_type": "stream",
       "stream": "stdout",
       "text": [
        "(212 - 32) * (5/9): 0\n"
       ]
      }
     ],
     "prompt_number": 4
    },
    {
     "cell_type": "markdown",
     "metadata": {},
     "source": [
      "\ubb38\uc81c\uac00 `5/9`\uc744 \uacf1\ud560 \ub54c \ubc1c\uc0dd\ud55c\ub2e4. `5/9`\uc758 \uac12\uc774 0 \uc774\uae30 \ub54c\ubb38\uc774\ub2e4."
     ]
    },
    {
     "cell_type": "code",
     "collapsed": false,
     "input": [
      "5/9"
     ],
     "language": "python",
     "metadata": {},
     "outputs": [
      {
       "metadata": {},
       "output_type": "pyout",
       "prompt_number": 5,
       "text": [
        "0"
       ]
      }
     ],
     "prompt_number": 5
    },
    {
     "cell_type": "markdown",
     "metadata": {
      "cell_tags": []
     },
     "source": [
      "\ucef4\ud4e8\ud130\ub294 \uc22b\uc790\ub97c \ub450\uac00\uc9c0 \uc911 \ud55c\uac00\uc9c0\ub85c \uc800\uc7a5\ud55c\ub2e4. [\uc815\uc218(integers)](../../gloss.html#integer) \ud639\uc740 [\ubd80\ub3d9 \uc18c\uc218\uc810(floating-point numbers)](../../gloss.html#float-point-number). \uc815\uc218\ub294 \uc77c\ubc18\uc801\uc73c\ub85c \uc22b\uc790\ub97c \uc138\ub294 \uc22b\uc790\uc774\uace0, \ubd80\ub3d9 \uc18c\uc218\uc810\uc740 \uc2e4\uc218\uc640 \uc2e4\uc218\uc758 \uc18c\uc218\ubd80\uac00 \uc788\ub2e4.\n",
      "\ub367\uc148, \ube84\uc148, \uacf1\uc148\uc740 \uc815\uc218\ub098 \ubd80\ub3d9 \uc18c\uc218\uc810\uc774\ub098 \uc6b0\ub9ac\uac00 \ud1b5\uc0c1 \uc608\uce21\ud558\ub294 \ubc29\uc2dd\uc73c\ub85c \ub3d9\uc791\ud558\uc9c0\ub9cc, \ub098\ub217\uc148\uc740 \ub2e4\ub974\uac8c \ub3d9\uc791\ud55c\ub2e4.\n",
      "\uc815\uc218\ub97c \ub2e4\ub978 \uc815\uc218\ub85c \ub098\ub204\uac8c \ub41c\ub2e4\uba74, \ub098\uba38\uc9c0 \uc5c6\ub294 \ubaab\ub9cc \uc5bb\ub294\ub2e4."
     ]
    },
    {
     "cell_type": "code",
     "collapsed": false,
     "input": [
      "print '10/3 is:', 10/3"
     ],
     "language": "python",
     "metadata": {
      "cell_tags": []
     },
     "outputs": [
      {
       "output_type": "stream",
       "stream": "stdout",
       "text": [
        "10/3 is: 3\n"
       ]
      }
     ],
     "prompt_number": 6
    },
    {
     "cell_type": "markdown",
     "metadata": {
      "cell_tags": []
     },
     "source": [
      "\ub2e4\ub978 \ud55c\ud3b8\uc73c\ub85c, \ubd84\ubaa8\uc640 \ubd84\uc790 \ub458\uc911\uc758 \ud558\ub098\uac00 \ubd80\ub3d9 \uc18c\uc218\uc810\uc774\ub77c\uba74, \ucef4\ud4e8\ud130\ub294 \ubd80\ub3d9 \uc18c\uc218\uc810 \uacb0\uacfc\ub97c \uc0dd\uc131\ud55c\ub2e4."
     ]
    },
    {
     "cell_type": "code",
     "collapsed": false,
     "input": [
      "print '10.0/3 is:', 10.0/3"
     ],
     "language": "python",
     "metadata": {
      "cell_tags": []
     },
     "outputs": [
      {
       "output_type": "stream",
       "stream": "stdout",
       "text": [
        "10.0/3 is: 3.33333333333\n"
       ]
      }
     ],
     "prompt_number": 7
    },
    {
     "cell_type": "markdown",
     "metadata": {
      "cell_tags": []
     },
     "source": [
      "\ucef4\ud4e8\ud130\ub294 \uc5ed\uc0ac\uc801\uc778 \uc774\uc720\ub85c \uc774\uc640 \uac19\uc774 \ub3d9\uc791\ud55c\ub2e4. \uc815\uc218 \uc5f0\uc0b0\uc740 \ucd08\uae30 \ucef4\ud4e8\ud130\uc5d0\uc11c \ud6e8\uc52c \ube68\ub790\uace0, \ub9ce\uc740 \uc0c1\ud669\uc5d0\uc11c \uc720\uc6a9\ud588\ub2e4. \ud558\uc9c0\ub9cc, \uc5ec\uc804\ud788 \ud63c\ub780\uc2a4\ub7fd\ub2e4. \uadf8\ub798\uc11c \ud30c\uc774\uc36c 3\ub294 \uc815\uc218\ub85c \ub098\ub217\uc148\uc744 \ud560 \ub54c \ubd80\ub3d9 \uc18c\uc218\uc810 \uacb0\uacfc\ub97c \ubc18\ud658\ud55c\ub2e4.\n",
      "\ud30c\uc774\uc36c 2.7 \ubc84\uc83c\uc744 \uc0ac\uc6a9\ud558\ub294 \uacbd\uc6b0, \ub9cc\uc57d `5/9` \uc5f0\uc0b0\uc758 \uc62c\ubc14\ub978 \uacb0\uacfc\ub97c \uc5bb\uc73c\ub824\uba74, `5.0/9`, `5/9.0` \ud639\uc740 \ub2e4\ub978 \ubc29\uc2dd\uc73c\ub85c \uc5f0\uc0b0\uc744 \uc791\uc131\ud574\uc57c \ud55c\ub2e4.\n",
      "\n",
      "\ubd80\ub3d9 \uc18c\uc218\uc810 \uacb0\uacfc\ub97c \uc5bb\ub294 \ub2e4\ub978 \ubc29\uc2dd\uc740 \uba85\uc2dc\uc801\uc73c\ub85c \uc0b0\ucd9c\ud574\uc57c\ud558\ub294 \uacb0\uacfc\ub97c \ucef4\ud4e8\ud130\uc5d0 \uc9c0\uc2dc\ud55c\ub2e4. \uc22b\uc790 \uc911\uc5d0 \ud558\ub098\ub97c \ud615\ubcc0\ud658(cast)\ud55c\ub2e4."
     ]
    },
    {
     "cell_type": "code",
     "collapsed": false,
     "input": [
      "print 'float(10)/3 is:', float(10)/3"
     ],
     "language": "python",
     "metadata": {},
     "outputs": [
      {
       "output_type": "stream",
       "stream": "stdout",
       "text": [
        "float(10)/3 is: 3.33333333333\n"
       ]
      }
     ],
     "prompt_number": 1
    },
    {
     "cell_type": "markdown",
     "metadata": {},
     "source": [
      "\uc0c1\uae30 \ubc29\uc2dd\uc758 \uc7a5\uc810\uc740 \ubcc0\uc218\uc640 \ud568\uaed8 \uc0ac\uc6a9\ub420 \uc218 \uc788\ub2e4\ub294 \uac83\uc774\ub2e4. \uc9c1\uc811 \uc0b4\ud3b4\ubcf4\uc790."
     ]
    },
    {
     "cell_type": "code",
     "collapsed": false,
     "input": [
      "a = 10\n",
      "b = 3\n",
      "print 'a/b is:', a/b\n",
      "print 'float(a)/b is:', float(a)/b"
     ],
     "language": "python",
     "metadata": {},
     "outputs": [
      {
       "output_type": "stream",
       "stream": "stdout",
       "text": [
        "a/b is: 3\n",
        "float(a)/b is: 3.33333333333\n"
       ]
      }
     ],
     "prompt_number": 2
    },
    {
     "cell_type": "markdown",
     "metadata": {},
     "source": [
      "`a` \ud639\uc740 `b`\ub97c \ub2e4\uc2dc \uc815\uc758\ud558\ub294 \uac83\ubcf4\ub2e4 \ub354 \uc27d\ub2e4\ub294 \uac83\uc744 \ubcfc \uc218 \uc788\ub2e4.\n",
      "\n",
      "\uc9c0\uae08\uae4c\uc9c0 \ud559\uc2b5\ud55c \uc9c0\uc2dd\uc73c\ub85c `fahr_to_kelvin` \ud568\uc218\ub97c \uace0\uccd0\ubcf4\uc790."
     ]
    },
    {
     "cell_type": "code",
     "collapsed": false,
     "input": [
      "def fahr_to_kelvin(temp):\n",
      "    return ((temp - 32) * (5.0/9.0)) + 273.15\n",
      "\n",
      "print 'freezing point of water:', fahr_to_kelvin(32)\n",
      "print 'boiling point of water:', fahr_to_kelvin(212)"
     ],
     "language": "python",
     "metadata": {},
     "outputs": [
      {
       "output_type": "stream",
       "stream": "stdout",
       "text": [
        "freezing point of water: 273.15\n",
        "boiling point of water: 373.15\n"
       ]
      }
     ],
     "prompt_number": 8
    },
    {
     "cell_type": "markdown",
     "metadata": {
      "cell_tags": []
     },
     "source": [
      "\uc798 \ub3d9\uc791\ud55c\ub2e4!"
     ]
    },
    {
     "cell_type": "heading",
     "level": 3,
     "metadata": {},
     "source": [
      "\ud568\uc218 \uc870\ud569\ud558\uae30"
     ]
    },
    {
     "cell_type": "markdown",
     "metadata": {},
     "source": [
      "\ud654\uc528\uc628\ub3c4\ub97c \uc808\ub300\uc628\ub3c4\ub85c \uc5b4\ub5bb\uac8c \ubcc0\ud658\ud558\ub294\uc9c0 \ubd24\uae30 \ub54c\ubb38\uc5d0 \uc808\ub300\uc628\ub3c4\ub97c \uc12d\uc528\uc628\ub3c4\ub85c \ubc14\uafb8\ub294 \uac83\uc740 \uc27d\ub2e4."
     ]
    },
    {
     "cell_type": "code",
     "collapsed": false,
     "input": [
      "def kelvin_to_celsius(temp):\n",
      "    return temp - 273.15\n",
      "\n",
      "print 'absolute zero in Celsius:', kelvin_to_celsius(0.0)"
     ],
     "language": "python",
     "metadata": {
      "cell_tags": []
     },
     "outputs": [
      {
       "output_type": "stream",
       "stream": "stdout",
       "text": [
        "absolute zero in Celsius: -273.15\n"
       ]
      }
     ],
     "prompt_number": 9
    },
    {
     "cell_type": "markdown",
     "metadata": {
      "cell_tags": []
     },
     "source": [
      "\ud654\uc528\uc628\ub3c4\uc5d0\uc11c \uc12d\uc528\uc628\ub3c4\ub85c \ubcc0\ud658\ud558\ub294 \uac83\uc740 \uc5b4\ub5a4\uac00\uc694? \n",
      "\uacf5\uc2dd\uc744 \uc801\uc744 \uc218\ub3c4 \uc788\uc9c0\ub9cc, \uadf8\ub7f4 \ud544\uc694\uac00 \uc5c6\ub2e4. \n",
      "\uc774\ubbf8 \uc791\uc131\ud55c \ub450\uac1c\uc758 \ud568\uc218\ub97c [\uc870\ud569(compose)](../../gloss.html#function-composition)\ud560 \uc218 \uc788\ub2e4."
     ]
    },
    {
     "cell_type": "code",
     "collapsed": false,
     "input": [
      "def fahr_to_celsius(temp):\n",
      "    temp_k = fahr_to_kelvin(temp)\n",
      "    result = kelvin_to_celsius(temp_k)\n",
      "    return result\n",
      "\n",
      "print 'freezing point of water in Celsius:', fahr_to_celsius(32.0)"
     ],
     "language": "python",
     "metadata": {
      "cell_tags": []
     },
     "outputs": [
      {
       "output_type": "stream",
       "stream": "stdout",
       "text": [
        "freezing point of water in Celsius: 0.0\n"
       ]
      }
     ],
     "prompt_number": 10
    },
    {
     "cell_type": "markdown",
     "metadata": {
      "cell_tags": []
     },
     "source": [
      "\uc5b4\ub5bb\uac8c \uc880\ub354 \ucee4\ub2e4\ub780 \ud504\ub85c\uadf8\ub7a8\uc774 \ub9cc\ub4e4\uc5b4\uc9c0\ub294\uc9c0 \uccab\ubc88\uc9f8 \ub9db\uc744 \ubd24\ub2e4. \uae30\ubcf8 \uc5f0\uc0b0\uc744 \uc815\uc758\ud558\uace0 \uc6d0\ud558\ub294 \ud6a8\uacfc\ub97c \uc5bb\uae30 \uc704\ud574\uc11c \uc774\ub97c \uc870\ud569\ud55c\ub2e4. \uc2e4\uc81c \ud568\uc218\ub294 \uc0c1\uae30 \ubcf4\uc5ec\uc9c4 \uac83\ubcf4\ub2e4 \ub354 \ud06c\ub2e4. \uc77c\ubc18\uc801\uc73c\ub85c \ub300\ub7b5 6\uc904\uc5d0\uc11c 20~30\uc904 \uc815\ub3c4 \ud55c\ub2e4. \ud558\uc9c0\ub9cc \uc774\ubcf4\ub2e4 \ud568\uc218\uac00 \ub354 \uae38\uac70\ub098 \ud568\uc218\ub97c \uc77d\ub294 \uc0ac\ub78c\uc774 \uc5b4\ub5bb\uac8c \ub3d9\uc791\ud558\ub294\uc9c0 \uc774\ud574\ud560\uc218 \uc5c6\ub294 \uac83\uc740 \uace4\ub780\ud558\ub2e4."
     ]
    },
    {
     "cell_type": "markdown",
     "metadata": {
      "cell_tags": [
       "challenges"
      ]
     },
     "source": [
      "#### \ub3c4\uc804\n",
      "\n",
      "1.  \"Adding\" two strings produces their concatention:\n",
      "    `'a' + 'b'` is `'ab'`.\n",
      "    Write a function called `fence` that takes two parameters called `original` and `wrapper`\n",
      "    and returns a new string that has the wrapper character at the beginning and end of the original:\n",
      "\n",
      "    ~~~python\n",
      "    print fence('name', '*')\n",
      "    *name*\n",
      "    ~~~\n",
      "\n",
      "1.  If the variable `s` refers to a string,\n",
      "    then `s[0]` is the string's first character\n",
      "    and `s[-1]` is its last.\n",
      "    Write a function called `outer`\n",
      "    that returns a string made up of just the first and last characters of its input:\n",
      "\n",
      "    ~~~python\n",
      "    print outer('helium')\n",
      "    hm\n",
      "    ~~~"
     ]
    },
    {
     "cell_type": "heading",
     "level": 3,
     "metadata": {
      "cell_tags": []
     },
     "source": [
      "The Call Stack"
     ]
    },
    {
     "cell_type": "markdown",
     "metadata": {
      "cell_tags": []
     },
     "source": [
      "Let's take a closer look at what happens when we call `fahr_to_celsius(32.0)`.\n",
      "To make things clearer,\n",
      "we'll start by putting the initial value 32.0 in a variable\n",
      "and store the final result in one as well:"
     ]
    },
    {
     "cell_type": "code",
     "collapsed": false,
     "input": [
      "original = 32.0\n",
      "final = fahr_to_celsius(original)"
     ],
     "language": "python",
     "metadata": {
      "cell_tags": []
     },
     "outputs": [],
     "prompt_number": 11
    },
    {
     "cell_type": "markdown",
     "metadata": {
      "cell_tags": []
     },
     "source": [
      "The diagram below shows what memory looks like after the first line has been executed:"
     ]
    },
    {
     "cell_type": "markdown",
     "metadata": {
      "cell_tags": []
     },
     "source": [
      "<img src=\"files/img/python-call-stack-01.svg\" alt=\"Call Stack (Initial State)\" />"
     ]
    },
    {
     "cell_type": "markdown",
     "metadata": {
      "cell_tags": []
     },
     "source": [
      "When we call `fahr_to_celsius`,\n",
      "Python *doesn't* create the variable `temp` right away.\n",
      "Instead,\n",
      "it creates something called a [stack frame](../../gloss.html#stack-frame)\n",
      "to keep track of the variables defined by `fahr_to_kelvin`.\n",
      "Initially,\n",
      "this stack frame only holds the value of `temp`:"
     ]
    },
    {
     "cell_type": "markdown",
     "metadata": {
      "cell_tags": []
     },
     "source": [
      "<img src=\"files/img/python-call-stack-02.svg\" alt=\"Call Stack Immediately After First Function Call\" />"
     ]
    },
    {
     "cell_type": "markdown",
     "metadata": {
      "cell_tags": []
     },
     "source": [
      "When we call `fahr_to_kelvin` inside `fahr_to_celsius`,\n",
      "Python creates another stack frame to hold `fahr_to_kelvin`'s variables:"
     ]
    },
    {
     "cell_type": "markdown",
     "metadata": {
      "cell_tags": []
     },
     "source": [
      "<img src=\"files/img/python-call-stack-03.svg\" alt=\"Call Stack During First Nested Function Call\" />"
     ]
    },
    {
     "cell_type": "markdown",
     "metadata": {
      "cell_tags": []
     },
     "source": [
      "It does this because there are now two variables in play called `temp`:\n",
      "the parameter to `fahr_to_celsius`,\n",
      "and the parameter to `fahr_to_kelvin`.\n",
      "Having two variables with the same name in the same part of the program would be ambiguous,\n",
      "so Python (and every other modern programming language) creates a new stack frame for each function call\n",
      "to keep that function's variables separate from those defined by other functions.\n",
      "\n",
      "When the call to `fahr_to_kelvin` returns a value,\n",
      "Python throws away `fahr_to_kelvin`'s stack frame\n",
      "and creates a new variable in the stack frame for `fahr_to_celsius` to hold the temperature in Kelvin:"
     ]
    },
    {
     "cell_type": "markdown",
     "metadata": {
      "cell_tags": []
     },
     "source": [
      "<img src=\"files/img/python-call-stack-04.svg\" alt=\"Call Stack After Return From First Nested Function Call\" />"
     ]
    },
    {
     "cell_type": "markdown",
     "metadata": {
      "cell_tags": []
     },
     "source": [
      "It then calls `kelvin_to_celsius`,\n",
      "which means it creates a stack frame to hold that function's variables:"
     ]
    },
    {
     "cell_type": "markdown",
     "metadata": {
      "cell_tags": []
     },
     "source": [
      "<img src=\"files/img/python-call-stack-05.svg\" alt=\"Call Stack During Call to Second Nested Function\" />"
     ]
    },
    {
     "cell_type": "markdown",
     "metadata": {
      "cell_tags": []
     },
     "source": [
      "Once again,\n",
      "Python throws away that stack frame when `kelvin_to_celsius` is done\n",
      "and creates the variable `result` in the stack frame for `fahr_to_celsius`:"
     ]
    },
    {
     "cell_type": "markdown",
     "metadata": {
      "cell_tags": []
     },
     "source": [
      "<img src=\"files/img/python-call-stack-06.svg\" alt=\"Call Stack After Second Nested Function Returns\" />"
     ]
    },
    {
     "cell_type": "markdown",
     "metadata": {
      "cell_tags": []
     },
     "source": [
      "Finally,\n",
      "when `fahr_to_celsius` is done,\n",
      "Python throws away *its* stack frame\n",
      "and puts its result in a new variable called `final`\n",
      "that lives in the stack frame we started with:"
     ]
    },
    {
     "cell_type": "markdown",
     "metadata": {
      "cell_tags": []
     },
     "source": [
      "<img src=\"files/img/python-call-stack-07.svg\" alt=\"Call Stack After All Functions Have Finished\" />"
     ]
    },
    {
     "cell_type": "markdown",
     "metadata": {
      "cell_tags": []
     },
     "source": [
      "This final stack frame is always there;\n",
      "it holds the variables we defined outside the functions in our code.\n",
      "What it *doesn't* hold is the variables that were in the various stack frames.\n",
      "If we try to get the value of `temp` after our functions have finished running,\n",
      "Python tells us that there's no such thing:"
     ]
    },
    {
     "cell_type": "code",
     "collapsed": false,
     "input": [
      "print 'final value of temp after all function calls:', temp"
     ],
     "language": "python",
     "metadata": {
      "cell_tags": []
     },
     "outputs": [
      {
       "ename": "NameError",
       "evalue": "name 'temp' is not defined",
       "output_type": "pyerr",
       "traceback": [
        "\u001b[0;31m---------------------------------------------------------------------------\u001b[0m\n\u001b[0;31mNameError\u001b[0m                                 Traceback (most recent call last)",
        "\u001b[0;32m<ipython-input-12-ffd9b4dbd5f1>\u001b[0m in \u001b[0;36m<module>\u001b[0;34m()\u001b[0m\n\u001b[0;32m----> 1\u001b[0;31m \u001b[0;32mprint\u001b[0m \u001b[0;34m'final value of temp after all function calls:'\u001b[0m\u001b[0;34m,\u001b[0m \u001b[0mtemp\u001b[0m\u001b[0;34m\u001b[0m\u001b[0m\n\u001b[0m",
        "\u001b[0;31mNameError\u001b[0m: name 'temp' is not defined"
       ]
      },
      {
       "output_type": "stream",
       "stream": "stdout",
       "text": [
        "final value of temp after all function calls:"
       ]
      }
     ],
     "prompt_number": 12
    },
    {
     "cell_type": "markdown",
     "metadata": {
      "cell_tags": []
     },
     "source": [
      "Why go to all this trouble?\n",
      "Well,\n",
      "here's a function called `span` that calculates the difference between\n",
      "the mininum and maximum values in an array:"
     ]
    },
    {
     "cell_type": "code",
     "collapsed": false,
     "input": [
      "import numpy\n",
      "\n",
      "def span(a):\n",
      "    diff = a.max() - a.min()\n",
      "    return diff\n",
      "\n",
      "data = numpy.loadtxt(fname='inflammation-01.csv', delimiter=',')\n",
      "print 'span of data', span(data)"
     ],
     "language": "python",
     "metadata": {
      "cell_tags": []
     },
     "outputs": [
      {
       "output_type": "stream",
       "stream": "stdout",
       "text": [
        " span of data 20.0\n"
       ]
      }
     ],
     "prompt_number": 13
    },
    {
     "cell_type": "markdown",
     "metadata": {
      "cell_tags": []
     },
     "source": [
      "Notice that `span` assigns a value to a variable called `diff`.\n",
      "We might very well use a variable with the same name to hold data:"
     ]
    },
    {
     "cell_type": "code",
     "collapsed": false,
     "input": [
      "diff = numpy.loadtxt(fname='inflammation-01.csv', delimiter=',')\n",
      "print 'span of data:', span(diff)"
     ],
     "language": "python",
     "metadata": {
      "cell_tags": []
     },
     "outputs": [
      {
       "output_type": "stream",
       "stream": "stdout",
       "text": [
        "span of data: 20.0\n"
       ]
      }
     ],
     "prompt_number": 14
    },
    {
     "cell_type": "markdown",
     "metadata": {
      "cell_tags": []
     },
     "source": [
      "We don't expect `diff` to have the value 20.0 after this function call,\n",
      "so the name `diff` cannot refer to the same thing inside `span` as it does in the main body of our program.\n",
      "And yes,\n",
      "we could probably choose a different name than `diff` in our main program in this case,\n",
      "but we don't want to have to read every line of NumPy to see what variable names its functions use\n",
      "before calling any of those functions,\n",
      "just in case they change the values of our variables."
     ]
    },
    {
     "cell_type": "markdown",
     "metadata": {
      "cell_tags": []
     },
     "source": [
      "The big idea here is [encapsulation](../../gloss.html#encapsulation),\n",
      "and it's the key to writing correct, comprehensible programs.\n",
      "A function's job is to turn several operations into one\n",
      "so that we can think about a single function call\n",
      "instead of a dozen or a hundred statements\n",
      "each time we want to do something.\n",
      "That only works if functions don't interfere with each other;\n",
      "if they do,\n",
      "we have to pay attention to the details once again,\n",
      "which quickly overloads our short-term memory."
     ]
    },
    {
     "cell_type": "markdown",
     "metadata": {
      "cell_tags": [
       "challenges"
      ]
     },
     "source": [
      "#### Challenges\n",
      "\n",
      "1.  We previously wrote functions called `fence` and `outer`.\n",
      "    Draw a diagram showing how the call stack changes when we run the following:\n",
      "    \n",
      "    ~~~python\n",
      "    print outer(fence('carbon', '+'))\n",
      "    ~~~"
     ]
    },
    {
     "cell_type": "heading",
     "level": 3,
     "metadata": {
      "cell_tags": []
     },
     "source": [
      "Testing and Documenting"
     ]
    },
    {
     "cell_type": "markdown",
     "metadata": {
      "cell_tags": []
     },
     "source": [
      "Once we start putting things in functions so that we can re-use them,\n",
      "we need to start testing that those functions are working correctly.\n",
      "To see how to do this,\n",
      "let's write a function to center a dataset around a particular value:"
     ]
    },
    {
     "cell_type": "code",
     "collapsed": false,
     "input": [
      "def center(data, desired):\n",
      "    return (data - data.mean()) + desired"
     ],
     "language": "python",
     "metadata": {
      "cell_tags": []
     },
     "outputs": [],
     "prompt_number": 15
    },
    {
     "cell_type": "markdown",
     "metadata": {
      "cell_tags": []
     },
     "source": [
      "We could test this on our actual data,\n",
      "but since we don't know what the values ought to be,\n",
      "it will be hard to tell if the result was correct.\n",
      "Instead,\n",
      "let's use NumPy to create a matrix of 0's\n",
      "and then center that around 3:"
     ]
    },
    {
     "cell_type": "code",
     "collapsed": false,
     "input": [
      "z = numpy.zeros((2,2))\n",
      "print center(z, 3)"
     ],
     "language": "python",
     "metadata": {
      "cell_tags": []
     },
     "outputs": [
      {
       "output_type": "stream",
       "stream": "stdout",
       "text": [
        "[[ 3.  3.]\n",
        " [ 3.  3.]]\n"
       ]
      }
     ],
     "prompt_number": 16
    },
    {
     "cell_type": "markdown",
     "metadata": {
      "cell_tags": []
     },
     "source": [
      "That looks right,\n",
      "so let's try `center` on our real data:"
     ]
    },
    {
     "cell_type": "code",
     "collapsed": false,
     "input": [
      "data = numpy.loadtxt(fname='inflammation-01.csv', delimiter=',')\n",
      "print center(data, 0)"
     ],
     "language": "python",
     "metadata": {
      "cell_tags": []
     },
     "outputs": [
      {
       "output_type": "stream",
       "stream": "stdout",
       "text": [
        "[[-6.14875 -6.14875 -5.14875 ..., -3.14875 -6.14875 -6.14875]\n",
        " [-6.14875 -5.14875 -4.14875 ..., -5.14875 -6.14875 -5.14875]\n",
        " [-6.14875 -5.14875 -5.14875 ..., -4.14875 -5.14875 -5.14875]\n",
        " ..., \n",
        " [-6.14875 -5.14875 -5.14875 ..., -5.14875 -5.14875 -5.14875]\n",
        " [-6.14875 -6.14875 -6.14875 ..., -6.14875 -4.14875 -6.14875]\n",
        " [-6.14875 -6.14875 -5.14875 ..., -5.14875 -5.14875 -6.14875]]\n"
       ]
      }
     ],
     "prompt_number": 17
    },
    {
     "cell_type": "markdown",
     "metadata": {
      "cell_tags": []
     },
     "source": [
      "It's hard to tell from the default output whether the result is correct,\n",
      "but there are a few simple tests that will reassure us:"
     ]
    },
    {
     "cell_type": "code",
     "collapsed": false,
     "input": [
      "print 'original min, mean, and max are:', data.min(), data.mean(), data.max()\n",
      "centered = center(data, 0)\n",
      "print 'min, mean, and and max of centered data are:', centered.min(), centered.mean(), centered.max()"
     ],
     "language": "python",
     "metadata": {
      "cell_tags": []
     },
     "outputs": [
      {
       "output_type": "stream",
       "stream": "stdout",
       "text": [
        "original min, mean, and max are: 0.0 6.14875 20.0\n",
        "min, mean, and and max of centered data are: -6.14875 -3.49054118942e-15 13.85125\n"
       ]
      }
     ],
     "prompt_number": 18
    },
    {
     "cell_type": "markdown",
     "metadata": {
      "cell_tags": []
     },
     "source": [
      "That seems almost right:\n",
      "the original mean was about 6.1,\n",
      "so the lower bound from zero is how about -6.1.\n",
      "The mean of the centered data isn't quite zero&mdash;we'll explore why not in the challenges&mdash;but it's pretty close.\n",
      "We can even go further and check that the standard deviation hasn't changed:"
     ]
    },
    {
     "cell_type": "code",
     "collapsed": false,
     "input": [
      "print 'std dev before and after:', data.std(), centered.std()"
     ],
     "language": "python",
     "metadata": {
      "cell_tags": []
     },
     "outputs": [
      {
       "output_type": "stream",
       "stream": "stdout",
       "text": [
        "std dev before and after: 4.61383319712 4.61383319712\n"
       ]
      }
     ],
     "prompt_number": 19
    },
    {
     "cell_type": "markdown",
     "metadata": {
      "cell_tags": []
     },
     "source": [
      "Those values look the same,\n",
      "but we probably wouldn't notice if they were different in the sixth decimal place.\n",
      "Let's do this instead:"
     ]
    },
    {
     "cell_type": "code",
     "collapsed": false,
     "input": [
      "print 'difference in standard deviations before and after:', data.std() - centered.std()"
     ],
     "language": "python",
     "metadata": {
      "cell_tags": []
     },
     "outputs": [
      {
       "output_type": "stream",
       "stream": "stdout",
       "text": [
        "difference in standard deviations before and after: -3.5527136788e-15\n"
       ]
      }
     ],
     "prompt_number": 20
    },
    {
     "cell_type": "markdown",
     "metadata": {
      "cell_tags": []
     },
     "source": [
      "Again,\n",
      "the difference is very small.\n",
      "It's still possible that our function is wrong,\n",
      "but it seems unlikely enough that we should probably get back to doing our analysis.\n",
      "We have one more task first, though:\n",
      "we should write some [documentation](../../gloss.html#documentation) for our function\n",
      "to remind ourselves later what it's for and how to use it.\n",
      "\n",
      "The usual way to put documentation in software is to add [comments](../../gloss.html#comment) like this:"
     ]
    },
    {
     "cell_type": "code",
     "collapsed": false,
     "input": [
      "# center(data, desired): return a new array containing the original data centered around the desired value.\n",
      "def center(data, desired):\n",
      "    return (data - data.mean()) + desired"
     ],
     "language": "python",
     "metadata": {
      "cell_tags": []
     },
     "outputs": [],
     "prompt_number": 21
    },
    {
     "cell_type": "markdown",
     "metadata": {
      "cell_tags": []
     },
     "source": [
      "There's a better way, though.\n",
      "If the first thing in a function is a string that isn't assigned to a variable,\n",
      "that string is attached to the function as its documentation:"
     ]
    },
    {
     "cell_type": "code",
     "collapsed": false,
     "input": [
      "def center(data, desired):\n",
      "    '''Return a new array containing the original data centered around the desired value.'''\n",
      "    return (data - data.mean()) + desired"
     ],
     "language": "python",
     "metadata": {
      "cell_tags": []
     },
     "outputs": [],
     "prompt_number": 1
    },
    {
     "cell_type": "markdown",
     "metadata": {
      "cell_tags": []
     },
     "source": [
      "This is better because we can now ask Python's built-in help system to show us the documentation for the function:"
     ]
    },
    {
     "cell_type": "code",
     "collapsed": false,
     "input": [
      "help(center)"
     ],
     "language": "python",
     "metadata": {
      "cell_tags": []
     },
     "outputs": [
      {
       "output_type": "stream",
       "stream": "stdout",
       "text": [
        "Help on function center in module __main__:\n",
        "\n",
        "center(data, desired)\n",
        "    Return a new array containing the original data centered around the desired value.\n",
        "\n"
       ]
      }
     ],
     "prompt_number": 23
    },
    {
     "cell_type": "markdown",
     "metadata": {
      "cell_tags": []
     },
     "source": [
      "A string like this is called a [docstring](../../gloss.html#docstring).\n",
      "We don't need to use triple quotes when we write one,\n",
      "but if we do,\n",
      "we can break the string across multiple lines:"
     ]
    },
    {
     "cell_type": "code",
     "collapsed": false,
     "input": [
      "def center(data, desired):\n",
      "    '''Return a new array containing the original data centered around the desired value.\n",
      "    Example: center([1, 2, 3], 0) => [-1, 0, 1]'''\n",
      "    return (data - data.mean()) + desired\n",
      "\n",
      "help(center)"
     ],
     "language": "python",
     "metadata": {
      "cell_tags": []
     },
     "outputs": [
      {
       "output_type": "stream",
       "stream": "stdout",
       "text": [
        "Help on function center in module __main__:\n",
        "\n",
        "center(data, desired)\n",
        "    Return a new array containing the original data centered around the desired value.\n",
        "    Example: center([1, 2, 3], 0) => [-1, 0, 1]\n",
        "\n"
       ]
      }
     ],
     "prompt_number": 24
    },
    {
     "cell_type": "markdown",
     "metadata": {
      "cell_tags": [
       "challenges"
      ]
     },
     "source": [
      "#### Challenges\n",
      "\n",
      "1.  Write a function called `analyze` that takes a filename as a parameter\n",
      "    and displays the three graphs produced in the [previous lesson](01-numpy.ipynb),\n",
      "    i.e.,\n",
      "    `analyze('inflammation-01.csv')` should produce the graphs already shown,\n",
      "    while `analyze('inflammation-02.csv')` should produce corresponding graphs for the second data set.\n",
      "    Be sure to give your function a docstring.\n",
      "\n",
      "2.  Write a function `rescale` that takes an array as input\n",
      "    and returns a corresponding array of values scaled to lie in the range 0.0 to 1.0.\n",
      "    (If $L$ and $H$ are the lowest and highest values in the original array,\n",
      "    then the replacement for a value $v$ should be $(v-L) / (H-L)$.)\n",
      "    Be sure to give the function a docstring.\n",
      "\n",
      "3.  Run the commands `help(numpy.arange)` and `help(numpy.linspace)`\n",
      "    to see how to use these functions to generate regularly-spaced values,\n",
      "    then use those values to test your `rescale` function."
     ]
    },
    {
     "cell_type": "heading",
     "level": 3,
     "metadata": {
      "cell_tags": []
     },
     "source": [
      "Defining Defaults"
     ]
    },
    {
     "cell_type": "markdown",
     "metadata": {
      "cell_tags": []
     },
     "source": [
      "We have passed parameters to functions in two ways:\n",
      "directly, as in `span(data)`,\n",
      "and by name, as in `numpy.loadtxt(fname='something.csv', delimiter=',')`.\n",
      "In fact,\n",
      "we can pass the filename to `loadtxt` without the `fname=`:"
     ]
    },
    {
     "cell_type": "code",
     "collapsed": false,
     "input": [
      "numpy.loadtxt('inflammation-01.csv', delimiter=',')"
     ],
     "language": "python",
     "metadata": {
      "cell_tags": []
     },
     "outputs": [
      {
       "metadata": {},
       "output_type": "pyout",
       "prompt_number": 25,
       "text": [
        "array([[ 0.,  0.,  1., ...,  3.,  0.,  0.],\n",
        "       [ 0.,  1.,  2., ...,  1.,  0.,  1.],\n",
        "       [ 0.,  1.,  1., ...,  2.,  1.,  1.],\n",
        "       ..., \n",
        "       [ 0.,  1.,  1., ...,  1.,  1.,  1.],\n",
        "       [ 0.,  0.,  0., ...,  0.,  2.,  0.],\n",
        "       [ 0.,  0.,  1., ...,  1.,  1.,  0.]])"
       ]
      }
     ],
     "prompt_number": 25
    },
    {
     "cell_type": "markdown",
     "metadata": {
      "cell_tags": []
     },
     "source": [
      "but we still need to say `delimiter=`:"
     ]
    },
    {
     "cell_type": "code",
     "collapsed": false,
     "input": [
      "numpy.loadtxt('inflammation-01.csv', ',')"
     ],
     "language": "python",
     "metadata": {
      "cell_tags": []
     },
     "outputs": [
      {
       "ename": "TypeError",
       "evalue": "data type \",\" not understood",
       "output_type": "pyerr",
       "traceback": [
        "\u001b[0;31m---------------------------------------------------------------------------\u001b[0m\n\u001b[0;31mTypeError\u001b[0m                                 Traceback (most recent call last)",
        "\u001b[0;32m<ipython-input-26-e3bc6cf4fd6a>\u001b[0m in \u001b[0;36m<module>\u001b[0;34m()\u001b[0m\n\u001b[0;32m----> 1\u001b[0;31m \u001b[0mnumpy\u001b[0m\u001b[0;34m.\u001b[0m\u001b[0mloadtxt\u001b[0m\u001b[0;34m(\u001b[0m\u001b[0;34m'inflammation-01.csv'\u001b[0m\u001b[0;34m,\u001b[0m \u001b[0;34m','\u001b[0m\u001b[0;34m)\u001b[0m\u001b[0;34m\u001b[0m\u001b[0m\n\u001b[0m",
        "\u001b[0;32m/Users/gwilson/anaconda/lib/python2.7/site-packages/numpy/lib/npyio.pyc\u001b[0m in \u001b[0;36mloadtxt\u001b[0;34m(fname, dtype, comments, delimiter, converters, skiprows, usecols, unpack, ndmin)\u001b[0m\n\u001b[1;32m    775\u001b[0m     \u001b[0;32mtry\u001b[0m\u001b[0;34m:\u001b[0m\u001b[0;34m\u001b[0m\u001b[0m\n\u001b[1;32m    776\u001b[0m         \u001b[0;31m# Make sure we're dealing with a proper dtype\u001b[0m\u001b[0;34m\u001b[0m\u001b[0;34m\u001b[0m\u001b[0m\n\u001b[0;32m--> 777\u001b[0;31m         \u001b[0mdtype\u001b[0m \u001b[0;34m=\u001b[0m \u001b[0mnp\u001b[0m\u001b[0;34m.\u001b[0m\u001b[0mdtype\u001b[0m\u001b[0;34m(\u001b[0m\u001b[0mdtype\u001b[0m\u001b[0;34m)\u001b[0m\u001b[0;34m\u001b[0m\u001b[0m\n\u001b[0m\u001b[1;32m    778\u001b[0m         \u001b[0mdefconv\u001b[0m \u001b[0;34m=\u001b[0m \u001b[0m_getconv\u001b[0m\u001b[0;34m(\u001b[0m\u001b[0mdtype\u001b[0m\u001b[0;34m)\u001b[0m\u001b[0;34m\u001b[0m\u001b[0m\n\u001b[1;32m    779\u001b[0m \u001b[0;34m\u001b[0m\u001b[0m\n",
        "\u001b[0;31mTypeError\u001b[0m: data type \",\" not understood"
       ]
      }
     ],
     "prompt_number": 26
    },
    {
     "cell_type": "markdown",
     "metadata": {
      "cell_tags": []
     },
     "source": [
      "To understand what's going on,\n",
      "and make our own functions easier to use,\n",
      "let's re-define our `center` function like this:"
     ]
    },
    {
     "cell_type": "code",
     "collapsed": false,
     "input": [
      "def center(data, desired=0.0):\n",
      "    '''Return a new array containing the original data centered around the desired value (0 by default).\n",
      "    Example: center([1, 2, 3], 0) => [-1, 0, 1]'''\n",
      "    return (data - data.mean()) + desired"
     ],
     "language": "python",
     "metadata": {
      "cell_tags": []
     },
     "outputs": [],
     "prompt_number": 27
    },
    {
     "cell_type": "markdown",
     "metadata": {
      "cell_tags": []
     },
     "source": [
      "The key change is that the second parameter is now written `desired=0.0` instead of just `desired`.\n",
      "If we call the function with two arguments,\n",
      "it works as it did before:"
     ]
    },
    {
     "cell_type": "code",
     "collapsed": false,
     "input": [
      "test_data = numpy.zeros((2, 2))\n",
      "print center(test_data, 3)"
     ],
     "language": "python",
     "metadata": {
      "cell_tags": []
     },
     "outputs": [
      {
       "output_type": "stream",
       "stream": "stdout",
       "text": [
        "[[ 3.  3.]\n",
        " [ 3.  3.]]\n"
       ]
      }
     ],
     "prompt_number": 28
    },
    {
     "cell_type": "markdown",
     "metadata": {
      "cell_tags": []
     },
     "source": [
      "But we can also now call it with just one parameter,\n",
      "in which case `desired` is automatically assigned the [default value](../../gloss.html#default-parameter-value) of 0.0:"
     ]
    },
    {
     "cell_type": "code",
     "collapsed": false,
     "input": [
      "more_data = 5 + numpy.zeros((2, 2))\n",
      "print 'data before centering:', more_data\n",
      "print 'centered data:', center(more_data)"
     ],
     "language": "python",
     "metadata": {
      "cell_tags": []
     },
     "outputs": [
      {
       "output_type": "stream",
       "stream": "stdout",
       "text": [
        "data before centering: [[ 5.  5.]\n",
        " [ 5.  5.]]\n",
        "centered data: [[ 0.  0.]\n",
        " [ 0.  0.]]\n"
       ]
      }
     ],
     "prompt_number": 29
    },
    {
     "cell_type": "markdown",
     "metadata": {
      "cell_tags": []
     },
     "source": [
      "This is handy:\n",
      "if we usually want a function to work one way,\n",
      "but occasionally need it to do something else,\n",
      "we can allow people to pass a parameter when they need to\n",
      "but provide a default to make the normal case easier.\n",
      "The example below shows how Python matches values to parameters:"
     ]
    },
    {
     "cell_type": "code",
     "collapsed": false,
     "input": [
      "def display(a=1, b=2, c=3):\n",
      "    print 'a:', a, 'b:', b, 'c:', c\n",
      "\n",
      "print 'no parameters:'\n",
      "display()\n",
      "print 'one parameter:'\n",
      "display(55)\n",
      "print 'two parameters:'\n",
      "display(55, 66)"
     ],
     "language": "python",
     "metadata": {
      "cell_tags": []
     },
     "outputs": [
      {
       "output_type": "stream",
       "stream": "stdout",
       "text": [
        "no parameters:\n",
        "a: 1 b: 2 c: 3\n",
        "one parameter:\n",
        "a: 55 b: 2 c: 3\n",
        "two parameters:\n",
        "a: 55 b: 66 c: 3\n"
       ]
      }
     ],
     "prompt_number": 30
    },
    {
     "cell_type": "markdown",
     "metadata": {
      "cell_tags": []
     },
     "source": [
      "As this example shows,\n",
      "parameters are matched up from left to right,\n",
      "and any that haven't been given a value explicitly get their default value.\n",
      "We can override this behavior by naming the value as we pass it in:"
     ]
    },
    {
     "cell_type": "code",
     "collapsed": false,
     "input": [
      "print 'only setting the value of c'\n",
      "display(c=77)"
     ],
     "language": "python",
     "metadata": {
      "cell_tags": []
     },
     "outputs": [
      {
       "output_type": "stream",
       "stream": "stdout",
       "text": [
        "only setting the value of c\n",
        "a: 1 b: 2 c: 77\n"
       ]
      }
     ],
     "prompt_number": 31
    },
    {
     "cell_type": "markdown",
     "metadata": {
      "cell_tags": []
     },
     "source": [
      "With that in hand,\n",
      "let's look at the help for `numpy.loadtxt`:"
     ]
    },
    {
     "cell_type": "code",
     "collapsed": false,
     "input": [
      "help(numpy.loadtxt)"
     ],
     "language": "python",
     "metadata": {
      "cell_tags": []
     },
     "outputs": [
      {
       "output_type": "stream",
       "stream": "stdout",
       "text": [
        "Help on function loadtxt in module numpy.lib.npyio:\n",
        "\n",
        "loadtxt(fname, dtype=<type 'float'>, comments='#', delimiter=None, converters=None, skiprows=0, usecols=None, unpack=False, ndmin=0)\n",
        "    Load data from a text file.\n",
        "    \n",
        "    Each row in the text file must have the same number of values.\n",
        "    \n",
        "    Parameters\n",
        "    ----------\n",
        "    fname : file or str\n",
        "        File, filename, or generator to read.  If the filename extension is\n",
        "        ``.gz`` or ``.bz2``, the file is first decompressed. Note that\n",
        "        generators should return byte strings for Python 3k.\n",
        "    dtype : data-type, optional\n",
        "        Data-type of the resulting array; default: float.  If this is a\n",
        "        record data-type, the resulting array will be 1-dimensional, and\n",
        "        each row will be interpreted as an element of the array.  In this\n",
        "        case, the number of columns used must match the number of fields in\n",
        "        the data-type.\n",
        "    comments : str, optional\n",
        "        The character used to indicate the start of a comment;\n",
        "        default: '#'.\n",
        "    delimiter : str, optional\n",
        "        The string used to separate values.  By default, this is any\n",
        "        whitespace.\n",
        "    converters : dict, optional\n",
        "        A dictionary mapping column number to a function that will convert\n",
        "        that column to a float.  E.g., if column 0 is a date string:\n",
        "        ``converters = {0: datestr2num}``.  Converters can also be used to\n",
        "        provide a default value for missing data (but see also `genfromtxt`):\n",
        "        ``converters = {3: lambda s: float(s.strip() or 0)}``.  Default: None.\n",
        "    skiprows : int, optional\n",
        "        Skip the first `skiprows` lines; default: 0.\n",
        "    usecols : sequence, optional\n",
        "        Which columns to read, with 0 being the first.  For example,\n",
        "        ``usecols = (1,4,5)`` will extract the 2nd, 5th and 6th columns.\n",
        "        The default, None, results in all columns being read.\n",
        "    unpack : bool, optional\n",
        "        If True, the returned array is transposed, so that arguments may be\n",
        "        unpacked using ``x, y, z = loadtxt(...)``.  When used with a record\n",
        "        data-type, arrays are returned for each field.  Default is False.\n",
        "    ndmin : int, optional\n",
        "        The returned array will have at least `ndmin` dimensions.\n",
        "        Otherwise mono-dimensional axes will be squeezed.\n",
        "        Legal values: 0 (default), 1 or 2.\n",
        "        .. versionadded:: 1.6.0\n",
        "    \n",
        "    Returns\n",
        "    -------\n",
        "    out : ndarray\n",
        "        Data read from the text file.\n",
        "    \n",
        "    See Also\n",
        "    --------\n",
        "    load, fromstring, fromregex\n",
        "    genfromtxt : Load data with missing values handled as specified.\n",
        "    scipy.io.loadmat : reads MATLAB data files\n",
        "    \n",
        "    Notes\n",
        "    -----\n",
        "    This function aims to be a fast reader for simply formatted files.  The\n",
        "    `genfromtxt` function provides more sophisticated handling of, e.g.,\n",
        "    lines with missing values.\n",
        "    \n",
        "    Examples\n",
        "    --------\n",
        "    >>> from StringIO import StringIO   # StringIO behaves like a file object\n",
        "    >>> c = StringIO(\"0 1\\n2 3\")\n",
        "    >>> np.loadtxt(c)\n",
        "    array([[ 0.,  1.],\n",
        "           [ 2.,  3.]])\n",
        "    \n",
        "    >>> d = StringIO(\"M 21 72\\nF 35 58\")\n",
        "    >>> np.loadtxt(d, dtype={'names': ('gender', 'age', 'weight'),\n",
        "    ...                      'formats': ('S1', 'i4', 'f4')})\n",
        "    array([('M', 21, 72.0), ('F', 35, 58.0)],\n",
        "          dtype=[('gender', '|S1'), ('age', '<i4'), ('weight', '<f4')])\n",
        "    \n",
        "    >>> c = StringIO(\"1,0,2\\n3,0,4\")\n",
        "    >>> x, y = np.loadtxt(c, delimiter=',', usecols=(0, 2), unpack=True)\n",
        "    >>> x\n",
        "    array([ 1.,  3.])\n",
        "    >>> y\n",
        "    array([ 2.,  4.])\n",
        "\n"
       ]
      }
     ],
     "prompt_number": 32
    },
    {
     "cell_type": "markdown",
     "metadata": {
      "cell_tags": []
     },
     "source": [
      "There's a lot of information here,\n",
      "but the most important part is the first couple of lines:\n",
      "\n",
      "~~~python\n",
      "loadtxt(fname, dtype=<type 'float'>, comments='#', delimiter=None, converters=None, skiprows=0, usecols=None,\n",
      "        unpack=False, ndmin=0)\n",
      "~~~\n",
      "\n",
      "This tells us that `loadtxt` has one parameter called `fname` that doesn't have a default value,\n",
      "and eight others that do.\n",
      "If we call the function like this:\n",
      "\n",
      "~~~python\n",
      "numpy.loadtxt('inflammation-01.csv', ',')\n",
      "~~~\n",
      "\n",
      "then the filename is assigned to `fname` (which is what we want),\n",
      "but the delimiter string `','` is assigned to `dtype` rather than `delimiter`,\n",
      "because `dtype` is the second parameter in the list.\n",
      "That's why we don't have to provide `fname=` for the filename,\n",
      "but *do* have to provide `delimiter=` for the second parameter."
     ]
    },
    {
     "cell_type": "markdown",
     "metadata": {
      "cell_tags": [
       "challenges"
      ]
     },
     "source": [
      "#### Challenges\n",
      "\n",
      "1.  Rewrite the `rescale` function so that it scales data to lie between 0.0 and 1.0 by default,\n",
      "    but will allow the caller to specify lower and upper bounds if they want.\n",
      "    Compare your implementation to your neighbor's:\n",
      "    do the two functions always behave the same way?"
     ]
    },
    {
     "cell_type": "markdown",
     "metadata": {
      "cell_tags": [
       "keypoints"
      ]
     },
     "source": [
      "#### Key Points\n",
      "\n",
      "*   Define a function using `def name(...params...)`.\n",
      "*   The body of a function must be indented.\n",
      "*   Call a function using `name(...values...)`.\n",
      "*   Numbers are stored as integers or floating-point numbers.\n",
      "*   Integer division produces the whole part of the answer (not the fractional part).\n",
      "*   Each time a function is called, a new stack frame is created on the [call stack](../../gloss.html#call-stack) to hold its parameters and local variables.\n",
      "*   Python looks for variables in the current stack frame before looking for them at the top level.\n",
      "*   Use `help(thing)` to view help for something.\n",
      "*   Put docstrings in functions to provide help for that function.\n",
      "*   Specify default values for parameters when defining a function using `name=value` in the parameter list.\n",
      "*   Parameters can be passed by matching based on name, by position, or by omitting them (in which case the default value is used)."
     ]
    },
    {
     "cell_type": "markdown",
     "metadata": {
      "cell_tags": []
     },
     "source": [
      "#### Next Steps\n",
      "\n",
      "We now have a function called `analyze` to visualize a single data set.\n",
      "We could use it to explore all 12 of our current data sets like this:\n",
      "\n",
      "~~~python\n",
      "analyze('inflammation-01.csv')\n",
      "analyze('inflammation-02.csv')\n",
      "...\n",
      "analyze('inflammation-12.csv')\n",
      "~~~\n",
      "\n",
      "but the chances of us typing all 12 filenames correctly aren't great,\n",
      "and we'll be even worse off if we get another hundred files.\n",
      "What we need is a way to tell Python to do something once for each file,\n",
      "and that will be the subject of the next lesson."
     ]
    }
   ],
   "metadata": {}
  }
 ]
}